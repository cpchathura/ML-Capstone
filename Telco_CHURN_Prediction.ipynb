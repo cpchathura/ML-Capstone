{
  "nbformat": 4,
  "nbformat_minor": 0,
  "metadata": {
    "colab": {
      "name": "Telco CHURN Prediction.ipynb",
      "provenance": [],
      "collapsed_sections": [],
      "authorship_tag": "ABX9TyNyWGFmaScnnmtFkvYDUAOd",
      "include_colab_link": true
    },
    "kernelspec": {
      "name": "python3",
      "display_name": "Python 3"
    },
    "language_info": {
      "name": "python"
    }
  },
  "cells": [
    {
      "cell_type": "markdown",
      "metadata": {
        "id": "view-in-github",
        "colab_type": "text"
      },
      "source": [
        "<a href=\"https://colab.research.google.com/github/cpchathura/ML-Capstone/blob/main/Telco_CHURN_Prediction.ipynb\" target=\"_parent\"><img src=\"https://colab.research.google.com/assets/colab-badge.svg\" alt=\"Open In Colab\"/></a>"
      ]
    },
    {
      "cell_type": "markdown",
      "metadata": {
        "id": "ReEVR7F671-n"
      },
      "source": [
        "#Telco CHURN Prediction"
      ]
    },
    {
      "cell_type": "markdown",
      "metadata": {
        "id": "6HS16hCnGKth"
      },
      "source": [
        "#1: Problem Definition"
      ]
    },
    {
      "cell_type": "markdown",
      "metadata": {
        "id": "tvxZqqGG49s8"
      },
      "source": [
        "\n",
        "\n",
        "\n",
        "\n",
        "\n",
        "\n",
        "\n",
        "#2: Data Collection"
      ]
    },
    {
      "cell_type": "code",
      "metadata": {
        "id": "sVvbjp5275SI"
      },
      "source": [
        "import pandas as pd\n",
        "from matplotlib import pyplot as plt\n",
        "import numpy as np\n",
        "%matplotlib inline\n",
        "import tensorflow as tf\n",
        "from tensorflow import keras\n",
        "import seaborn as sns\n",
        "\n",
        "data = pd.read_csv(\"https://raw.githubusercontent.com/cpchathura/ML-Capstone/main/Datasets/WA_Fn-UseC_-Telco-Customer-Churn.csv\")"
      ],
      "execution_count": 438,
      "outputs": []
    },
    {
      "cell_type": "markdown",
      "metadata": {
        "id": "Au62vrtnA_i5"
      },
      "source": [
        "#3: Exploratory Data Analysis (EDA)"
      ]
    },
    {
      "cell_type": "markdown",
      "metadata": {
        "id": "b0c64-mwBPRA"
      },
      "source": [
        "##3.1: Understand Data"
      ]
    },
    {
      "cell_type": "markdown",
      "metadata": {
        "id": "S6-InjizRYVy"
      },
      "source": [
        "3.1.1: Analysis of data frame for its features (Columns) & data entries (Rows)"
      ]
    },
    {
      "cell_type": "code",
      "metadata": {
        "colab": {
          "base_uri": "https://localhost:8080/",
          "height": 307
        },
        "id": "3w5BQcaB8Fiw",
        "outputId": "df44cc03-9cb9-4560-b43e-4b158f859ddc"
      },
      "source": [
        "data.head()"
      ],
      "execution_count": 439,
      "outputs": [
        {
          "output_type": "execute_result",
          "data": {
            "text/html": [
              "<div>\n",
              "<style scoped>\n",
              "    .dataframe tbody tr th:only-of-type {\n",
              "        vertical-align: middle;\n",
              "    }\n",
              "\n",
              "    .dataframe tbody tr th {\n",
              "        vertical-align: top;\n",
              "    }\n",
              "\n",
              "    .dataframe thead th {\n",
              "        text-align: right;\n",
              "    }\n",
              "</style>\n",
              "<table border=\"1\" class=\"dataframe\">\n",
              "  <thead>\n",
              "    <tr style=\"text-align: right;\">\n",
              "      <th></th>\n",
              "      <th>customerID</th>\n",
              "      <th>gender</th>\n",
              "      <th>SeniorCitizen</th>\n",
              "      <th>Partner</th>\n",
              "      <th>Dependents</th>\n",
              "      <th>tenure</th>\n",
              "      <th>PhoneService</th>\n",
              "      <th>MultipleLines</th>\n",
              "      <th>InternetService</th>\n",
              "      <th>OnlineSecurity</th>\n",
              "      <th>OnlineBackup</th>\n",
              "      <th>DeviceProtection</th>\n",
              "      <th>TechSupport</th>\n",
              "      <th>StreamingTV</th>\n",
              "      <th>StreamingMovies</th>\n",
              "      <th>Contract</th>\n",
              "      <th>PaperlessBilling</th>\n",
              "      <th>PaymentMethod</th>\n",
              "      <th>MonthlyCharges</th>\n",
              "      <th>TotalCharges</th>\n",
              "      <th>Churn</th>\n",
              "    </tr>\n",
              "  </thead>\n",
              "  <tbody>\n",
              "    <tr>\n",
              "      <th>0</th>\n",
              "      <td>7590-VHVEG</td>\n",
              "      <td>Female</td>\n",
              "      <td>0</td>\n",
              "      <td>Yes</td>\n",
              "      <td>No</td>\n",
              "      <td>1</td>\n",
              "      <td>No</td>\n",
              "      <td>No phone service</td>\n",
              "      <td>DSL</td>\n",
              "      <td>No</td>\n",
              "      <td>Yes</td>\n",
              "      <td>No</td>\n",
              "      <td>No</td>\n",
              "      <td>No</td>\n",
              "      <td>No</td>\n",
              "      <td>Month-to-month</td>\n",
              "      <td>Yes</td>\n",
              "      <td>Electronic check</td>\n",
              "      <td>29.85</td>\n",
              "      <td>29.85</td>\n",
              "      <td>No</td>\n",
              "    </tr>\n",
              "    <tr>\n",
              "      <th>1</th>\n",
              "      <td>5575-GNVDE</td>\n",
              "      <td>Male</td>\n",
              "      <td>0</td>\n",
              "      <td>No</td>\n",
              "      <td>No</td>\n",
              "      <td>34</td>\n",
              "      <td>Yes</td>\n",
              "      <td>No</td>\n",
              "      <td>DSL</td>\n",
              "      <td>Yes</td>\n",
              "      <td>No</td>\n",
              "      <td>Yes</td>\n",
              "      <td>No</td>\n",
              "      <td>No</td>\n",
              "      <td>No</td>\n",
              "      <td>One year</td>\n",
              "      <td>No</td>\n",
              "      <td>Mailed check</td>\n",
              "      <td>56.95</td>\n",
              "      <td>1889.5</td>\n",
              "      <td>No</td>\n",
              "    </tr>\n",
              "    <tr>\n",
              "      <th>2</th>\n",
              "      <td>3668-QPYBK</td>\n",
              "      <td>Male</td>\n",
              "      <td>0</td>\n",
              "      <td>No</td>\n",
              "      <td>No</td>\n",
              "      <td>2</td>\n",
              "      <td>Yes</td>\n",
              "      <td>No</td>\n",
              "      <td>DSL</td>\n",
              "      <td>Yes</td>\n",
              "      <td>Yes</td>\n",
              "      <td>No</td>\n",
              "      <td>No</td>\n",
              "      <td>No</td>\n",
              "      <td>No</td>\n",
              "      <td>Month-to-month</td>\n",
              "      <td>Yes</td>\n",
              "      <td>Mailed check</td>\n",
              "      <td>53.85</td>\n",
              "      <td>108.15</td>\n",
              "      <td>Yes</td>\n",
              "    </tr>\n",
              "    <tr>\n",
              "      <th>3</th>\n",
              "      <td>7795-CFOCW</td>\n",
              "      <td>Male</td>\n",
              "      <td>0</td>\n",
              "      <td>No</td>\n",
              "      <td>No</td>\n",
              "      <td>45</td>\n",
              "      <td>No</td>\n",
              "      <td>No phone service</td>\n",
              "      <td>DSL</td>\n",
              "      <td>Yes</td>\n",
              "      <td>No</td>\n",
              "      <td>Yes</td>\n",
              "      <td>Yes</td>\n",
              "      <td>No</td>\n",
              "      <td>No</td>\n",
              "      <td>One year</td>\n",
              "      <td>No</td>\n",
              "      <td>Bank transfer (automatic)</td>\n",
              "      <td>42.30</td>\n",
              "      <td>1840.75</td>\n",
              "      <td>No</td>\n",
              "    </tr>\n",
              "    <tr>\n",
              "      <th>4</th>\n",
              "      <td>9237-HQITU</td>\n",
              "      <td>Female</td>\n",
              "      <td>0</td>\n",
              "      <td>No</td>\n",
              "      <td>No</td>\n",
              "      <td>2</td>\n",
              "      <td>Yes</td>\n",
              "      <td>No</td>\n",
              "      <td>Fiber optic</td>\n",
              "      <td>No</td>\n",
              "      <td>No</td>\n",
              "      <td>No</td>\n",
              "      <td>No</td>\n",
              "      <td>No</td>\n",
              "      <td>No</td>\n",
              "      <td>Month-to-month</td>\n",
              "      <td>Yes</td>\n",
              "      <td>Electronic check</td>\n",
              "      <td>70.70</td>\n",
              "      <td>151.65</td>\n",
              "      <td>Yes</td>\n",
              "    </tr>\n",
              "  </tbody>\n",
              "</table>\n",
              "</div>"
            ],
            "text/plain": [
              "   customerID  gender  SeniorCitizen  ... MonthlyCharges TotalCharges  Churn\n",
              "0  7590-VHVEG  Female              0  ...          29.85        29.85     No\n",
              "1  5575-GNVDE    Male              0  ...          56.95       1889.5     No\n",
              "2  3668-QPYBK    Male              0  ...          53.85       108.15    Yes\n",
              "3  7795-CFOCW    Male              0  ...          42.30      1840.75     No\n",
              "4  9237-HQITU  Female              0  ...          70.70       151.65    Yes\n",
              "\n",
              "[5 rows x 21 columns]"
            ]
          },
          "metadata": {},
          "execution_count": 439
        }
      ]
    },
    {
      "cell_type": "markdown",
      "metadata": {
        "id": "FKwJ4S6xReNC"
      },
      "source": [
        "3.1.2: Analysis of data frame composition; shape (i.e. entries, columns), data types & memory usage. ( Alternatively can use data.shape & data.dtypes )\n"
      ]
    },
    {
      "cell_type": "code",
      "metadata": {
        "colab": {
          "base_uri": "https://localhost:8080/"
        },
        "id": "sJKeX6QOJrq_",
        "outputId": "80cd90a9-3ffb-488a-b351-6109ae2abb1c"
      },
      "source": [
        "data.info()"
      ],
      "execution_count": 440,
      "outputs": [
        {
          "output_type": "stream",
          "name": "stdout",
          "text": [
            "<class 'pandas.core.frame.DataFrame'>\n",
            "RangeIndex: 7043 entries, 0 to 7042\n",
            "Data columns (total 21 columns):\n",
            " #   Column            Non-Null Count  Dtype  \n",
            "---  ------            --------------  -----  \n",
            " 0   customerID        7043 non-null   object \n",
            " 1   gender            7043 non-null   object \n",
            " 2   SeniorCitizen     7043 non-null   int64  \n",
            " 3   Partner           7043 non-null   object \n",
            " 4   Dependents        7043 non-null   object \n",
            " 5   tenure            7043 non-null   int64  \n",
            " 6   PhoneService      7043 non-null   object \n",
            " 7   MultipleLines     7043 non-null   object \n",
            " 8   InternetService   7043 non-null   object \n",
            " 9   OnlineSecurity    7043 non-null   object \n",
            " 10  OnlineBackup      7043 non-null   object \n",
            " 11  DeviceProtection  7043 non-null   object \n",
            " 12  TechSupport       7043 non-null   object \n",
            " 13  StreamingTV       7043 non-null   object \n",
            " 14  StreamingMovies   7043 non-null   object \n",
            " 15  Contract          7043 non-null   object \n",
            " 16  PaperlessBilling  7043 non-null   object \n",
            " 17  PaymentMethod     7043 non-null   object \n",
            " 18  MonthlyCharges    7043 non-null   float64\n",
            " 19  TotalCharges      7043 non-null   object \n",
            " 20  Churn             7043 non-null   object \n",
            "dtypes: float64(1), int64(2), object(18)\n",
            "memory usage: 1.1+ MB\n"
          ]
        }
      ]
    },
    {
      "cell_type": "markdown",
      "metadata": {
        "id": "Rt2x7RuGR4vz"
      },
      "source": [
        "3.1.3: Statistical analysis of data frame."
      ]
    },
    {
      "cell_type": "code",
      "metadata": {
        "colab": {
          "base_uri": "https://localhost:8080/",
          "height": 696
        },
        "id": "GoyjA537AMoW",
        "outputId": "7d2bb817-18e5-41f0-d2e0-809c637381b0"
      },
      "source": [
        "data.describe(include='all').transpose()"
      ],
      "execution_count": 441,
      "outputs": [
        {
          "output_type": "execute_result",
          "data": {
            "text/html": [
              "<div>\n",
              "<style scoped>\n",
              "    .dataframe tbody tr th:only-of-type {\n",
              "        vertical-align: middle;\n",
              "    }\n",
              "\n",
              "    .dataframe tbody tr th {\n",
              "        vertical-align: top;\n",
              "    }\n",
              "\n",
              "    .dataframe thead th {\n",
              "        text-align: right;\n",
              "    }\n",
              "</style>\n",
              "<table border=\"1\" class=\"dataframe\">\n",
              "  <thead>\n",
              "    <tr style=\"text-align: right;\">\n",
              "      <th></th>\n",
              "      <th>count</th>\n",
              "      <th>unique</th>\n",
              "      <th>top</th>\n",
              "      <th>freq</th>\n",
              "      <th>mean</th>\n",
              "      <th>std</th>\n",
              "      <th>min</th>\n",
              "      <th>25%</th>\n",
              "      <th>50%</th>\n",
              "      <th>75%</th>\n",
              "      <th>max</th>\n",
              "    </tr>\n",
              "  </thead>\n",
              "  <tbody>\n",
              "    <tr>\n",
              "      <th>customerID</th>\n",
              "      <td>7043</td>\n",
              "      <td>7043</td>\n",
              "      <td>9618-LFJRU</td>\n",
              "      <td>1</td>\n",
              "      <td>NaN</td>\n",
              "      <td>NaN</td>\n",
              "      <td>NaN</td>\n",
              "      <td>NaN</td>\n",
              "      <td>NaN</td>\n",
              "      <td>NaN</td>\n",
              "      <td>NaN</td>\n",
              "    </tr>\n",
              "    <tr>\n",
              "      <th>gender</th>\n",
              "      <td>7043</td>\n",
              "      <td>2</td>\n",
              "      <td>Male</td>\n",
              "      <td>3555</td>\n",
              "      <td>NaN</td>\n",
              "      <td>NaN</td>\n",
              "      <td>NaN</td>\n",
              "      <td>NaN</td>\n",
              "      <td>NaN</td>\n",
              "      <td>NaN</td>\n",
              "      <td>NaN</td>\n",
              "    </tr>\n",
              "    <tr>\n",
              "      <th>SeniorCitizen</th>\n",
              "      <td>7043</td>\n",
              "      <td>NaN</td>\n",
              "      <td>NaN</td>\n",
              "      <td>NaN</td>\n",
              "      <td>0.162147</td>\n",
              "      <td>0.368612</td>\n",
              "      <td>0</td>\n",
              "      <td>0</td>\n",
              "      <td>0</td>\n",
              "      <td>0</td>\n",
              "      <td>1</td>\n",
              "    </tr>\n",
              "    <tr>\n",
              "      <th>Partner</th>\n",
              "      <td>7043</td>\n",
              "      <td>2</td>\n",
              "      <td>No</td>\n",
              "      <td>3641</td>\n",
              "      <td>NaN</td>\n",
              "      <td>NaN</td>\n",
              "      <td>NaN</td>\n",
              "      <td>NaN</td>\n",
              "      <td>NaN</td>\n",
              "      <td>NaN</td>\n",
              "      <td>NaN</td>\n",
              "    </tr>\n",
              "    <tr>\n",
              "      <th>Dependents</th>\n",
              "      <td>7043</td>\n",
              "      <td>2</td>\n",
              "      <td>No</td>\n",
              "      <td>4933</td>\n",
              "      <td>NaN</td>\n",
              "      <td>NaN</td>\n",
              "      <td>NaN</td>\n",
              "      <td>NaN</td>\n",
              "      <td>NaN</td>\n",
              "      <td>NaN</td>\n",
              "      <td>NaN</td>\n",
              "    </tr>\n",
              "    <tr>\n",
              "      <th>tenure</th>\n",
              "      <td>7043</td>\n",
              "      <td>NaN</td>\n",
              "      <td>NaN</td>\n",
              "      <td>NaN</td>\n",
              "      <td>32.3711</td>\n",
              "      <td>24.5595</td>\n",
              "      <td>0</td>\n",
              "      <td>9</td>\n",
              "      <td>29</td>\n",
              "      <td>55</td>\n",
              "      <td>72</td>\n",
              "    </tr>\n",
              "    <tr>\n",
              "      <th>PhoneService</th>\n",
              "      <td>7043</td>\n",
              "      <td>2</td>\n",
              "      <td>Yes</td>\n",
              "      <td>6361</td>\n",
              "      <td>NaN</td>\n",
              "      <td>NaN</td>\n",
              "      <td>NaN</td>\n",
              "      <td>NaN</td>\n",
              "      <td>NaN</td>\n",
              "      <td>NaN</td>\n",
              "      <td>NaN</td>\n",
              "    </tr>\n",
              "    <tr>\n",
              "      <th>MultipleLines</th>\n",
              "      <td>7043</td>\n",
              "      <td>3</td>\n",
              "      <td>No</td>\n",
              "      <td>3390</td>\n",
              "      <td>NaN</td>\n",
              "      <td>NaN</td>\n",
              "      <td>NaN</td>\n",
              "      <td>NaN</td>\n",
              "      <td>NaN</td>\n",
              "      <td>NaN</td>\n",
              "      <td>NaN</td>\n",
              "    </tr>\n",
              "    <tr>\n",
              "      <th>InternetService</th>\n",
              "      <td>7043</td>\n",
              "      <td>3</td>\n",
              "      <td>Fiber optic</td>\n",
              "      <td>3096</td>\n",
              "      <td>NaN</td>\n",
              "      <td>NaN</td>\n",
              "      <td>NaN</td>\n",
              "      <td>NaN</td>\n",
              "      <td>NaN</td>\n",
              "      <td>NaN</td>\n",
              "      <td>NaN</td>\n",
              "    </tr>\n",
              "    <tr>\n",
              "      <th>OnlineSecurity</th>\n",
              "      <td>7043</td>\n",
              "      <td>3</td>\n",
              "      <td>No</td>\n",
              "      <td>3498</td>\n",
              "      <td>NaN</td>\n",
              "      <td>NaN</td>\n",
              "      <td>NaN</td>\n",
              "      <td>NaN</td>\n",
              "      <td>NaN</td>\n",
              "      <td>NaN</td>\n",
              "      <td>NaN</td>\n",
              "    </tr>\n",
              "    <tr>\n",
              "      <th>OnlineBackup</th>\n",
              "      <td>7043</td>\n",
              "      <td>3</td>\n",
              "      <td>No</td>\n",
              "      <td>3088</td>\n",
              "      <td>NaN</td>\n",
              "      <td>NaN</td>\n",
              "      <td>NaN</td>\n",
              "      <td>NaN</td>\n",
              "      <td>NaN</td>\n",
              "      <td>NaN</td>\n",
              "      <td>NaN</td>\n",
              "    </tr>\n",
              "    <tr>\n",
              "      <th>DeviceProtection</th>\n",
              "      <td>7043</td>\n",
              "      <td>3</td>\n",
              "      <td>No</td>\n",
              "      <td>3095</td>\n",
              "      <td>NaN</td>\n",
              "      <td>NaN</td>\n",
              "      <td>NaN</td>\n",
              "      <td>NaN</td>\n",
              "      <td>NaN</td>\n",
              "      <td>NaN</td>\n",
              "      <td>NaN</td>\n",
              "    </tr>\n",
              "    <tr>\n",
              "      <th>TechSupport</th>\n",
              "      <td>7043</td>\n",
              "      <td>3</td>\n",
              "      <td>No</td>\n",
              "      <td>3473</td>\n",
              "      <td>NaN</td>\n",
              "      <td>NaN</td>\n",
              "      <td>NaN</td>\n",
              "      <td>NaN</td>\n",
              "      <td>NaN</td>\n",
              "      <td>NaN</td>\n",
              "      <td>NaN</td>\n",
              "    </tr>\n",
              "    <tr>\n",
              "      <th>StreamingTV</th>\n",
              "      <td>7043</td>\n",
              "      <td>3</td>\n",
              "      <td>No</td>\n",
              "      <td>2810</td>\n",
              "      <td>NaN</td>\n",
              "      <td>NaN</td>\n",
              "      <td>NaN</td>\n",
              "      <td>NaN</td>\n",
              "      <td>NaN</td>\n",
              "      <td>NaN</td>\n",
              "      <td>NaN</td>\n",
              "    </tr>\n",
              "    <tr>\n",
              "      <th>StreamingMovies</th>\n",
              "      <td>7043</td>\n",
              "      <td>3</td>\n",
              "      <td>No</td>\n",
              "      <td>2785</td>\n",
              "      <td>NaN</td>\n",
              "      <td>NaN</td>\n",
              "      <td>NaN</td>\n",
              "      <td>NaN</td>\n",
              "      <td>NaN</td>\n",
              "      <td>NaN</td>\n",
              "      <td>NaN</td>\n",
              "    </tr>\n",
              "    <tr>\n",
              "      <th>Contract</th>\n",
              "      <td>7043</td>\n",
              "      <td>3</td>\n",
              "      <td>Month-to-month</td>\n",
              "      <td>3875</td>\n",
              "      <td>NaN</td>\n",
              "      <td>NaN</td>\n",
              "      <td>NaN</td>\n",
              "      <td>NaN</td>\n",
              "      <td>NaN</td>\n",
              "      <td>NaN</td>\n",
              "      <td>NaN</td>\n",
              "    </tr>\n",
              "    <tr>\n",
              "      <th>PaperlessBilling</th>\n",
              "      <td>7043</td>\n",
              "      <td>2</td>\n",
              "      <td>Yes</td>\n",
              "      <td>4171</td>\n",
              "      <td>NaN</td>\n",
              "      <td>NaN</td>\n",
              "      <td>NaN</td>\n",
              "      <td>NaN</td>\n",
              "      <td>NaN</td>\n",
              "      <td>NaN</td>\n",
              "      <td>NaN</td>\n",
              "    </tr>\n",
              "    <tr>\n",
              "      <th>PaymentMethod</th>\n",
              "      <td>7043</td>\n",
              "      <td>4</td>\n",
              "      <td>Electronic check</td>\n",
              "      <td>2365</td>\n",
              "      <td>NaN</td>\n",
              "      <td>NaN</td>\n",
              "      <td>NaN</td>\n",
              "      <td>NaN</td>\n",
              "      <td>NaN</td>\n",
              "      <td>NaN</td>\n",
              "      <td>NaN</td>\n",
              "    </tr>\n",
              "    <tr>\n",
              "      <th>MonthlyCharges</th>\n",
              "      <td>7043</td>\n",
              "      <td>NaN</td>\n",
              "      <td>NaN</td>\n",
              "      <td>NaN</td>\n",
              "      <td>64.7617</td>\n",
              "      <td>30.09</td>\n",
              "      <td>18.25</td>\n",
              "      <td>35.5</td>\n",
              "      <td>70.35</td>\n",
              "      <td>89.85</td>\n",
              "      <td>118.75</td>\n",
              "    </tr>\n",
              "    <tr>\n",
              "      <th>TotalCharges</th>\n",
              "      <td>7043</td>\n",
              "      <td>6531</td>\n",
              "      <td></td>\n",
              "      <td>11</td>\n",
              "      <td>NaN</td>\n",
              "      <td>NaN</td>\n",
              "      <td>NaN</td>\n",
              "      <td>NaN</td>\n",
              "      <td>NaN</td>\n",
              "      <td>NaN</td>\n",
              "      <td>NaN</td>\n",
              "    </tr>\n",
              "    <tr>\n",
              "      <th>Churn</th>\n",
              "      <td>7043</td>\n",
              "      <td>2</td>\n",
              "      <td>No</td>\n",
              "      <td>5174</td>\n",
              "      <td>NaN</td>\n",
              "      <td>NaN</td>\n",
              "      <td>NaN</td>\n",
              "      <td>NaN</td>\n",
              "      <td>NaN</td>\n",
              "      <td>NaN</td>\n",
              "      <td>NaN</td>\n",
              "    </tr>\n",
              "  </tbody>\n",
              "</table>\n",
              "</div>"
            ],
            "text/plain": [
              "                 count unique               top  ...    50%    75%     max\n",
              "customerID        7043   7043        9618-LFJRU  ...    NaN    NaN     NaN\n",
              "gender            7043      2              Male  ...    NaN    NaN     NaN\n",
              "SeniorCitizen     7043    NaN               NaN  ...      0      0       1\n",
              "Partner           7043      2                No  ...    NaN    NaN     NaN\n",
              "Dependents        7043      2                No  ...    NaN    NaN     NaN\n",
              "tenure            7043    NaN               NaN  ...     29     55      72\n",
              "PhoneService      7043      2               Yes  ...    NaN    NaN     NaN\n",
              "MultipleLines     7043      3                No  ...    NaN    NaN     NaN\n",
              "InternetService   7043      3       Fiber optic  ...    NaN    NaN     NaN\n",
              "OnlineSecurity    7043      3                No  ...    NaN    NaN     NaN\n",
              "OnlineBackup      7043      3                No  ...    NaN    NaN     NaN\n",
              "DeviceProtection  7043      3                No  ...    NaN    NaN     NaN\n",
              "TechSupport       7043      3                No  ...    NaN    NaN     NaN\n",
              "StreamingTV       7043      3                No  ...    NaN    NaN     NaN\n",
              "StreamingMovies   7043      3                No  ...    NaN    NaN     NaN\n",
              "Contract          7043      3    Month-to-month  ...    NaN    NaN     NaN\n",
              "PaperlessBilling  7043      2               Yes  ...    NaN    NaN     NaN\n",
              "PaymentMethod     7043      4  Electronic check  ...    NaN    NaN     NaN\n",
              "MonthlyCharges    7043    NaN               NaN  ...  70.35  89.85  118.75\n",
              "TotalCharges      7043   6531                    ...    NaN    NaN     NaN\n",
              "Churn             7043      2                No  ...    NaN    NaN     NaN\n",
              "\n",
              "[21 rows x 11 columns]"
            ]
          },
          "metadata": {},
          "execution_count": 441
        }
      ]
    },
    {
      "cell_type": "markdown",
      "metadata": {
        "id": "pwORBUqkRNEe"
      },
      "source": [
        "3.1.4: Analysis of unique values for each feature"
      ]
    },
    {
      "cell_type": "code",
      "metadata": {
        "id": "skUpMFzLL8BK"
      },
      "source": [
        "def unique_values(df):\n",
        "  for column in df:\n",
        "   print(f'{column} : {df[column].unique()} Count : {df[column].nunique()}\\n')"
      ],
      "execution_count": 442,
      "outputs": []
    },
    {
      "cell_type": "code",
      "metadata": {
        "colab": {
          "base_uri": "https://localhost:8080/"
        },
        "id": "9GIcQvvGdrUI",
        "outputId": "66200aeb-fe84-4565-c8dc-3d349ce9a700"
      },
      "source": [
        "unique_values(data)"
      ],
      "execution_count": 443,
      "outputs": [
        {
          "output_type": "stream",
          "name": "stdout",
          "text": [
            "customerID : ['7590-VHVEG' '5575-GNVDE' '3668-QPYBK' ... '4801-JZAZL' '8361-LTMKD'\n",
            " '3186-AJIEK'] Count : 7043\n",
            "\n",
            "gender : ['Female' 'Male'] Count : 2\n",
            "\n",
            "SeniorCitizen : [0 1] Count : 2\n",
            "\n",
            "Partner : ['Yes' 'No'] Count : 2\n",
            "\n",
            "Dependents : ['No' 'Yes'] Count : 2\n",
            "\n",
            "tenure : [ 1 34  2 45  8 22 10 28 62 13 16 58 49 25 69 52 71 21 12 30 47 72 17 27\n",
            "  5 46 11 70 63 43 15 60 18 66  9  3 31 50 64 56  7 42 35 48 29 65 38 68\n",
            " 32 55 37 36 41  6  4 33 67 23 57 61 14 20 53 40 59 24 44 19 54 51 26  0\n",
            " 39] Count : 73\n",
            "\n",
            "PhoneService : ['No' 'Yes'] Count : 2\n",
            "\n",
            "MultipleLines : ['No phone service' 'No' 'Yes'] Count : 3\n",
            "\n",
            "InternetService : ['DSL' 'Fiber optic' 'No'] Count : 3\n",
            "\n",
            "OnlineSecurity : ['No' 'Yes' 'No internet service'] Count : 3\n",
            "\n",
            "OnlineBackup : ['Yes' 'No' 'No internet service'] Count : 3\n",
            "\n",
            "DeviceProtection : ['No' 'Yes' 'No internet service'] Count : 3\n",
            "\n",
            "TechSupport : ['No' 'Yes' 'No internet service'] Count : 3\n",
            "\n",
            "StreamingTV : ['No' 'Yes' 'No internet service'] Count : 3\n",
            "\n",
            "StreamingMovies : ['No' 'Yes' 'No internet service'] Count : 3\n",
            "\n",
            "Contract : ['Month-to-month' 'One year' 'Two year'] Count : 3\n",
            "\n",
            "PaperlessBilling : ['Yes' 'No'] Count : 2\n",
            "\n",
            "PaymentMethod : ['Electronic check' 'Mailed check' 'Bank transfer (automatic)'\n",
            " 'Credit card (automatic)'] Count : 4\n",
            "\n",
            "MonthlyCharges : [29.85 56.95 53.85 ... 63.1  44.2  78.7 ] Count : 1585\n",
            "\n",
            "TotalCharges : ['29.85' '1889.5' '108.15' ... '346.45' '306.6' '6844.5'] Count : 6531\n",
            "\n",
            "Churn : ['No' 'Yes'] Count : 2\n",
            "\n"
          ]
        }
      ]
    },
    {
      "cell_type": "markdown",
      "metadata": {
        "id": "qQqriEzjSM_f"
      },
      "source": [
        "3.1.5: Feature analysis based on Unique values\n",
        "\n",
        "> a) Cx Demographic Information\n",
        "\n",
        "*   CustomerID - Customer ID\n",
        "*   Gender - Whether the customer is a male or a female\n",
        "*   SeniorCitizen - Whether the customer is a senior citizen or not (1, 0)\n",
        "*   Partner - Whether the customer has a partner or not (Yes, No)\n",
        "*   Dependents - Whether the customer has dependents or not (Yes, No)\n",
        "\n",
        "> b) Cx Account Information\n",
        "\n",
        "*   Tenure - Number of months the customer has stayed with the company\n",
        "*   Contract - The contract term of the customer (Month-to-month, One year, Two year)\n",
        "*   PaperlessBilling - Whether the customer has paperless billing or not (Yes, No)\n",
        "*   PaymentMethod - The customer’s payment method (Electronic check, Mailed check, Bank transfer (automatic), Credit card (automatic))\n",
        "*   MonthlyCharges - The amount charged to the customer monthly\n",
        "*   TotalCharges - The total amount charged to the customer\n",
        "\n",
        "> c) Cx Value Added Services (VAS) Subsribed\n",
        "\n",
        "*   PhoneService - Whether the customer has a phone service or not (Yes, No)\n",
        "*   MultipleLines - Whether the customer has multiple lines or not (Yes, No, No phone service)\n",
        "*   InternetService - Customer’s internet service provider (DSL, Fiber optic, No)\n",
        "*   OnlineSecurity - Whether the customer has online security or not (Yes, No, No internet service)\n",
        "*   OnlineBackup - Whether the customer has online backup or not (Yes, No, No internet service)\n",
        "*   DeviceProtection - Whether the customer has device protection or not (Yes, No, No internet service)\n",
        "*   TechSupport - Whether the customer has tech support or not (Yes, No, No internet service)\n",
        "*   StreamingTV - Whether the customer has streaming TV or not (Yes, No, No internet service)\n",
        "*   StreamingMovies - Whether the customer has streaming movies or not (Yes, No, No internet service)\n",
        "\n",
        "> d) Classification Labels\n",
        "\n",
        "*   Churn - Whether the customer churned or not (Yes, No)"
      ]
    },
    {
      "cell_type": "markdown",
      "metadata": {
        "id": "Y73iRnNxWtU7"
      },
      "source": [
        "##3.2: Data Preprocessing for EDA"
      ]
    },
    {
      "cell_type": "markdown",
      "metadata": {
        "id": "vY3aIQ3dYDTD"
      },
      "source": [
        "3.2.1: Change the data type of 'TotalCharges' from 'Object' to 'float'."
      ]
    },
    {
      "cell_type": "code",
      "metadata": {
        "colab": {
          "base_uri": "https://localhost:8080/"
        },
        "id": "paPV-ae4W8r_",
        "outputId": "61da34c4-fdd1-4a9e-b005-a5d111141842"
      },
      "source": [
        "data.TotalCharges = pd.to_numeric(data.TotalCharges, errors='coerce')\n",
        "data.dtypes"
      ],
      "execution_count": 444,
      "outputs": [
        {
          "output_type": "execute_result",
          "data": {
            "text/plain": [
              "customerID           object\n",
              "gender               object\n",
              "SeniorCitizen         int64\n",
              "Partner              object\n",
              "Dependents           object\n",
              "tenure                int64\n",
              "PhoneService         object\n",
              "MultipleLines        object\n",
              "InternetService      object\n",
              "OnlineSecurity       object\n",
              "OnlineBackup         object\n",
              "DeviceProtection     object\n",
              "TechSupport          object\n",
              "StreamingTV          object\n",
              "StreamingMovies      object\n",
              "Contract             object\n",
              "PaperlessBilling     object\n",
              "PaymentMethod        object\n",
              "MonthlyCharges      float64\n",
              "TotalCharges        float64\n",
              "Churn                object\n",
              "dtype: object"
            ]
          },
          "metadata": {},
          "execution_count": 444
        }
      ]
    },
    {
      "cell_type": "markdown",
      "metadata": {
        "id": "e3yCEqzVYbXx"
      },
      "source": [
        "3.2.2: Analyse missing values for each feature"
      ]
    },
    {
      "cell_type": "code",
      "metadata": {
        "colab": {
          "base_uri": "https://localhost:8080/"
        },
        "id": "mqpt5tFHYpqj",
        "outputId": "4ae2e665-9ab6-49b3-ad4d-edb7d60e1688"
      },
      "source": [
        "data.isna().sum()"
      ],
      "execution_count": 445,
      "outputs": [
        {
          "output_type": "execute_result",
          "data": {
            "text/plain": [
              "customerID           0\n",
              "gender               0\n",
              "SeniorCitizen        0\n",
              "Partner              0\n",
              "Dependents           0\n",
              "tenure               0\n",
              "PhoneService         0\n",
              "MultipleLines        0\n",
              "InternetService      0\n",
              "OnlineSecurity       0\n",
              "OnlineBackup         0\n",
              "DeviceProtection     0\n",
              "TechSupport          0\n",
              "StreamingTV          0\n",
              "StreamingMovies      0\n",
              "Contract             0\n",
              "PaperlessBilling     0\n",
              "PaymentMethod        0\n",
              "MonthlyCharges       0\n",
              "TotalCharges        11\n",
              "Churn                0\n",
              "dtype: int64"
            ]
          },
          "metadata": {},
          "execution_count": 445
        }
      ]
    },
    {
      "cell_type": "markdown",
      "metadata": {
        "id": "wSeyTHjdG827"
      },
      "source": [
        "3.2.3: Data Cleaning"
      ]
    },
    {
      "cell_type": "code",
      "metadata": {
        "id": "7Oxqm8MVHDdf"
      },
      "source": [
        "# Drop rows with missing values.\n",
        "data = data.dropna()"
      ],
      "execution_count": 446,
      "outputs": []
    },
    {
      "cell_type": "code",
      "metadata": {
        "colab": {
          "base_uri": "https://localhost:8080/"
        },
        "id": "NZBbhWcmJ-Yq",
        "outputId": "e5ae0722-154a-4c2c-e635-76ede5d8b960"
      },
      "source": [
        "data['TotalCharges'].isna().sum()"
      ],
      "execution_count": 447,
      "outputs": [
        {
          "output_type": "execute_result",
          "data": {
            "text/plain": [
              "0"
            ]
          },
          "metadata": {},
          "execution_count": 447
        }
      ]
    },
    {
      "cell_type": "markdown",
      "metadata": {
        "id": "3mKbQ4COZik1"
      },
      "source": [
        "##3.3: Data Exploration "
      ]
    },
    {
      "cell_type": "markdown",
      "metadata": {
        "id": "9JQ5scGh3MIX"
      },
      "source": [
        "3.3.1: Analyse Churn distribution"
      ]
    },
    {
      "cell_type": "code",
      "metadata": {
        "colab": {
          "base_uri": "https://localhost:8080/",
          "height": 333
        },
        "id": "ghpA29eV2HHP",
        "outputId": "3f926ef1-d931-43a3-9518-30d9217fa945"
      },
      "source": [
        "plt.figure(figsize=(5, 5))\n",
        "ax = sns.countplot(x=data['Churn'], palette=\"Blues\", linewidth=1)\n",
        "plt.show()"
      ],
      "execution_count": 448,
      "outputs": [
        {
          "output_type": "display_data",
          "data": {
            "image/png": "[encoded data removed]",
            "text/plain": [
              "<Figure size 360x360 with 1 Axes>"
            ]
          },
          "metadata": {
            "needs_background": "light"
          }
        }
      ]
    },
    {
      "cell_type": "markdown",
      "metadata": {
        "id": "82ae0OdY3U3D"
      },
      "source": [
        "Figure shows imbalance of Churn vs Non-Churn customers. "
      ]
    },
    {
      "cell_type": "markdown",
      "metadata": {
        "id": "-DGGzAbE9wYp"
      },
      "source": [
        "3.3.2: Analyse Box Plot to check Median & out-liers "
      ]
    },
    {
      "cell_type": "code",
      "metadata": {
        "id": "mnaWVZfM4YlL"
      },
      "source": [
        "#data['tenure'].plot(kind='box')\n",
        "# Create a function to generate boxplots.\n",
        "\n",
        "def boxplot(x, y, df):\n",
        "    \n",
        "    rows = int(str(plots[len(y)][0])[0])\n",
        "    columns = int(str(plots[len(y)][0])[1])\n",
        "\n",
        "    for i, j in enumerate(y):\n",
        "        plt.subplot(plots[len(y)][i])\n",
        "        ax = sns.boxplot(x=x, y=j, data=df[[x, j]], palette=\"Blues\", linewidth=1)\n",
        "        ax.set_title(j)\n",
        "        \n",
        "    return plt.show()"
      ],
      "execution_count": 449,
      "outputs": []
    },
    {
      "cell_type": "code",
      "metadata": {
        "colab": {
          "base_uri": "https://localhost:8080/",
          "height": 296
        },
        "id": "yyie0E207zmd",
        "outputId": "7b55707d-7186-4d47-c176-fe158f590eb7"
      },
      "source": [
        "# Generate boxplots for tenure, MonthlyCharges and TotalCharges.\n",
        "boxplot(\"Churn\", [\"tenure\", \"MonthlyCharges\"], data)"
      ],
      "execution_count": 450,
      "outputs": [
        {
          "output_type": "display_data",
          "data": {
            "image/png": "[encoded data removed]",
            "text/plain": [
              "<Figure size 432x288 with 2 Axes>"
            ]
          },
          "metadata": {
            "needs_background": "light"
          }
        }
      ]
    },
    {
      "cell_type": "markdown",
      "metadata": {
        "id": "Wzqg45SY8vdH"
      },
      "source": [
        "Plot insights:\n",
        "* Customers who churned had much lower tenure with a median of 10 months & much lower inter quartile range (IQR) as compared to non-churners. (median of 38 months)\n",
        "* Customers who churned had higher monthly charges with a median of 80 USD and much lower IQR compared to that of non-churners (median of 65 USD).\n",
        "* TotalCharges are the result of tenure and MonthlyCharges, which are more insightful on an individual basis."
      ]
    },
    {
      "cell_type": "markdown",
      "metadata": {
        "id": "JPk5QrwyGNOI"
      },
      "source": [
        "3.3.3: Analyse Count Plots "
      ]
    },
    {
      "cell_type": "code",
      "metadata": {
        "id": "QehPzNRBBqZu"
      },
      "source": [
        "# Create a function to generate countplots:\n",
        "def countplot(x, y, df1):\n",
        "    \n",
        "    rows = int(str(plots[len(y)][0])[0])\n",
        "    columns = int(str(plots[len(y)][0])[1])\n",
        "    \n",
        "    plt.figure(figsize=(7*columns, 7*rows))\n",
        "    \n",
        "    for i, j in enumerate(y):\n",
        "        plt.subplot(plots[len(y)][i])\n",
        "        ax = sns.countplot(x=j, hue=x, data=df1, palette='Blues', alpha=0.8, linewidth=0.4, edgecolor='black')\n",
        "        ax.set_title(j)\n",
        "        \n",
        "    return plt.show()"
      ],
      "execution_count": 451,
      "outputs": []
    },
    {
      "cell_type": "code",
      "metadata": {
        "colab": {
          "base_uri": "https://localhost:8080/",
          "height": 839
        },
        "id": "-kycFr1dCR_9",
        "outputId": "f09ed8c7-84a2-42cc-f86f-b7b553d48b87"
      },
      "source": [
        "# Generate countplots for various features.\n",
        "\n",
        "countplot(\"Churn\", ['SeniorCitizen', 'Contract', 'Partner', 'Dependents', 'PaymentMethod', 'InternetService'], data)"
      ],
      "execution_count": 452,
      "outputs": [
        {
          "output_type": "display_data",
          "data": {
            "image/png": "[encoded data removed]",
            "text/plain": [
              "<Figure size 1512x1008 with 6 Axes>"
            ]
          },
          "metadata": {
            "needs_background": "light"
          }
        }
      ]
    },
    {
      "cell_type": "markdown",
      "metadata": {
        "id": "2yaFzx1aE-ia"
      },
      "source": [
        "Plot insights:\n",
        "\n",
        "* Senior citizens churn rate is much higher than non-senior churn rate.\n",
        "* Churn rate for month-to-month contracts much higher that for other contract durations.\n",
        "* Moderately higher churn rate for customers without partners.\n",
        "* Much higher churn rate for customers without children.\n",
        "* Payment method electronic check shows much higher churn rate than other payment methods.\n",
        "* Customers with InternetService fiber optic as part of their contract have much higher churn rate."
      ]
    },
    {
      "cell_type": "markdown",
      "metadata": {
        "id": "1MmHTWrfN0KS"
      },
      "source": [
        "#4: Feature Engineering"
      ]
    },
    {
      "cell_type": "markdown",
      "metadata": {
        "id": "fbw074JEOFyj"
      },
      "source": [
        "##4.1: Feature Selection "
      ]
    },
    {
      "cell_type": "markdown",
      "metadata": {
        "id": "qeSt7EnWPgia"
      },
      "source": [
        "4.1.1: Drop non value adding features "
      ]
    },
    {
      "cell_type": "code",
      "metadata": {
        "id": "TAj78tJsC2eX"
      },
      "source": [
        "#Drop customerID\n",
        "data.drop('customerID', axis=1, inplace=True)"
      ],
      "execution_count": 453,
      "outputs": []
    },
    {
      "cell_type": "code",
      "metadata": {
        "colab": {
          "base_uri": "https://localhost:8080/"
        },
        "id": "Mbmn4lsR6HhS",
        "outputId": "7f4f745f-f012-47d2-99a5-b85c5325dd8f"
      },
      "source": [
        "data.info()"
      ],
      "execution_count": 454,
      "outputs": [
        {
          "output_type": "stream",
          "name": "stdout",
          "text": [
            "<class 'pandas.core.frame.DataFrame'>\n",
            "Int64Index: 7032 entries, 0 to 7042\n",
            "Data columns (total 20 columns):\n",
            " #   Column            Non-Null Count  Dtype  \n",
            "---  ------            --------------  -----  \n",
            " 0   gender            7032 non-null   object \n",
            " 1   SeniorCitizen     7032 non-null   int64  \n",
            " 2   Partner           7032 non-null   object \n",
            " 3   Dependents        7032 non-null   object \n",
            " 4   tenure            7032 non-null   int64  \n",
            " 5   PhoneService      7032 non-null   object \n",
            " 6   MultipleLines     7032 non-null   object \n",
            " 7   InternetService   7032 non-null   object \n",
            " 8   OnlineSecurity    7032 non-null   object \n",
            " 9   OnlineBackup      7032 non-null   object \n",
            " 10  DeviceProtection  7032 non-null   object \n",
            " 11  TechSupport       7032 non-null   object \n",
            " 12  StreamingTV       7032 non-null   object \n",
            " 13  StreamingMovies   7032 non-null   object \n",
            " 14  Contract          7032 non-null   object \n",
            " 15  PaperlessBilling  7032 non-null   object \n",
            " 16  PaymentMethod     7032 non-null   object \n",
            " 17  MonthlyCharges    7032 non-null   float64\n",
            " 18  TotalCharges      7032 non-null   float64\n",
            " 19  Churn             7032 non-null   object \n",
            "dtypes: float64(2), int64(2), object(16)\n",
            "memory usage: 1.4+ MB\n"
          ]
        }
      ]
    },
    {
      "cell_type": "markdown",
      "metadata": {
        "id": "vvAodjBmQtCV"
      },
      "source": [
        "4.1.2: Add new feature : Add 'TotVAS' by summing up all add-on services subscribed. "
      ]
    },
    {
      "cell_type": "code",
      "metadata": {
        "id": "sKWF8Ni8RKXM"
      },
      "source": [
        "data['TotVAS'] = (data[['InternetService', 'OnlineSecurity', 'DeviceProtection', 'StreamingMovies', 'TechSupport', 'StreamingTV', 'OnlineBackup']] == 'Yes').sum(axis=1)"
      ],
      "execution_count": 455,
      "outputs": []
    },
    {
      "cell_type": "code",
      "metadata": {
        "colab": {
          "base_uri": "https://localhost:8080/"
        },
        "id": "FojPkv6LSjuQ",
        "outputId": "70dcc201-e14d-44b9-e443-d98d6e8346a3"
      },
      "source": [
        "data.info()"
      ],
      "execution_count": 456,
      "outputs": [
        {
          "output_type": "stream",
          "name": "stdout",
          "text": [
            "<class 'pandas.core.frame.DataFrame'>\n",
            "Int64Index: 7032 entries, 0 to 7042\n",
            "Data columns (total 21 columns):\n",
            " #   Column            Non-Null Count  Dtype  \n",
            "---  ------            --------------  -----  \n",
            " 0   gender            7032 non-null   object \n",
            " 1   SeniorCitizen     7032 non-null   int64  \n",
            " 2   Partner           7032 non-null   object \n",
            " 3   Dependents        7032 non-null   object \n",
            " 4   tenure            7032 non-null   int64  \n",
            " 5   PhoneService      7032 non-null   object \n",
            " 6   MultipleLines     7032 non-null   object \n",
            " 7   InternetService   7032 non-null   object \n",
            " 8   OnlineSecurity    7032 non-null   object \n",
            " 9   OnlineBackup      7032 non-null   object \n",
            " 10  DeviceProtection  7032 non-null   object \n",
            " 11  TechSupport       7032 non-null   object \n",
            " 12  StreamingTV       7032 non-null   object \n",
            " 13  StreamingMovies   7032 non-null   object \n",
            " 14  Contract          7032 non-null   object \n",
            " 15  PaperlessBilling  7032 non-null   object \n",
            " 16  PaymentMethod     7032 non-null   object \n",
            " 17  MonthlyCharges    7032 non-null   float64\n",
            " 18  TotalCharges      7032 non-null   float64\n",
            " 19  Churn             7032 non-null   object \n",
            " 20  TotVAS            7032 non-null   int64  \n",
            "dtypes: float64(2), int64(3), object(16)\n",
            "memory usage: 1.5+ MB\n"
          ]
        }
      ]
    },
    {
      "cell_type": "code",
      "metadata": {
        "colab": {
          "base_uri": "https://localhost:8080/",
          "height": 459
        },
        "id": "Lb2NGlicR6Bo",
        "outputId": "65988177-11fb-44c0-8e60-7825d21a092e"
      },
      "source": [
        "# Generate countplot for the new feature.\n",
        "countplot('Churn', ['TotVAS'], data)"
      ],
      "execution_count": 457,
      "outputs": [
        {
          "output_type": "display_data",
          "data": {
            "image/png": "[encoded data removed]",
            "text/plain": [
              "<Figure size 504x504 with 1 Axes>"
            ]
          },
          "metadata": {
            "needs_background": "light"
          }
        }
      ]
    },
    {
      "cell_type": "markdown",
      "metadata": {
        "id": "L5bzcHqRSotH"
      },
      "source": [
        "Plot insights:\n",
        "\n",
        "* Customers with a very high number of additional value added services(VAS) do have a low churn rate."
      ]
    },
    {
      "cell_type": "markdown",
      "metadata": {
        "id": "Dj24rSfzc61b"
      },
      "source": [
        "4.1.3: Normalize Unique Values"
      ]
    },
    {
      "cell_type": "code",
      "metadata": {
        "id": "HdqFanV0WV0e"
      },
      "source": [
        "data.replace('No internet service','No',inplace=True)\n",
        "data.replace('No phone service','No',inplace=True)"
      ],
      "execution_count": 458,
      "outputs": []
    },
    {
      "cell_type": "code",
      "metadata": {
        "colab": {
          "base_uri": "https://localhost:8080/"
        },
        "id": "Dpc6FsX-csJC",
        "outputId": "ea5584e6-62b4-4722-f49c-fbdbc1bdd91c"
      },
      "source": [
        "unique_values(data)"
      ],
      "execution_count": 459,
      "outputs": [
        {
          "output_type": "stream",
          "name": "stdout",
          "text": [
            "gender : ['Female' 'Male'] Count : 2\n",
            "\n",
            "SeniorCitizen : [0 1] Count : 2\n",
            "\n",
            "Partner : ['Yes' 'No'] Count : 2\n",
            "\n",
            "Dependents : ['No' 'Yes'] Count : 2\n",
            "\n",
            "tenure : [ 1 34  2 45  8 22 10 28 62 13 16 58 49 25 69 52 71 21 12 30 47 72 17 27\n",
            "  5 46 11 70 63 43 15 60 18 66  9  3 31 50 64 56  7 42 35 48 29 65 38 68\n",
            " 32 55 37 36 41  6  4 33 67 23 57 61 14 20 53 40 59 24 44 19 54 51 26 39] Count : 72\n",
            "\n",
            "PhoneService : ['No' 'Yes'] Count : 2\n",
            "\n",
            "MultipleLines : ['No' 'Yes'] Count : 2\n",
            "\n",
            "InternetService : ['DSL' 'Fiber optic' 'No'] Count : 3\n",
            "\n",
            "OnlineSecurity : ['No' 'Yes'] Count : 2\n",
            "\n",
            "OnlineBackup : ['Yes' 'No'] Count : 2\n",
            "\n",
            "DeviceProtection : ['No' 'Yes'] Count : 2\n",
            "\n",
            "TechSupport : ['No' 'Yes'] Count : 2\n",
            "\n",
            "StreamingTV : ['No' 'Yes'] Count : 2\n",
            "\n",
            "StreamingMovies : ['No' 'Yes'] Count : 2\n",
            "\n",
            "Contract : ['Month-to-month' 'One year' 'Two year'] Count : 3\n",
            "\n",
            "PaperlessBilling : ['Yes' 'No'] Count : 2\n",
            "\n",
            "PaymentMethod : ['Electronic check' 'Mailed check' 'Bank transfer (automatic)'\n",
            " 'Credit card (automatic)'] Count : 4\n",
            "\n",
            "MonthlyCharges : [29.85 56.95 53.85 ... 63.1  44.2  78.7 ] Count : 1584\n",
            "\n",
            "TotalCharges : [  29.85 1889.5   108.15 ...  346.45  306.6  6844.5 ] Count : 6530\n",
            "\n",
            "Churn : ['No' 'Yes'] Count : 2\n",
            "\n",
            "TotVAS : [1 2 3 0 4 5 6] Count : 7\n",
            "\n"
          ]
        }
      ]
    },
    {
      "cell_type": "markdown",
      "metadata": {
        "id": "OJBPRFinetvv"
      },
      "source": [
        "4.1.4: Label Encording ( Apply for features with 2 unique values)"
      ]
    },
    {
      "cell_type": "code",
      "metadata": {
        "id": "6h3m2dgfewnG"
      },
      "source": [
        "# Label encoding for identified columns. (Instead of map can also use replace )\n",
        "\n",
        "def label_encoding(features, df):\n",
        "    for col in features:\n",
        "        df[col] = df[col].map({'Yes': 1, 'No': 0})\n",
        "    return       \n",
        "\n",
        "label_encoding(['Partner','Dependents','PhoneService','MultipleLines','OnlineSecurity','OnlineBackup',\n",
        "                  'DeviceProtection','TechSupport','StreamingTV','StreamingMovies','PaperlessBilling','Churn'], data)\n",
        "\n",
        "data['gender'] = data['gender'].map({'Female': 1, 'Male': 0})"
      ],
      "execution_count": 460,
      "outputs": []
    },
    {
      "cell_type": "markdown",
      "metadata": {
        "id": "nS39QaEfgy9G"
      },
      "source": [
        "4.1.5: One Hot Encording ( Apply for features with more than 2 unique values )"
      ]
    },
    {
      "cell_type": "code",
      "metadata": {
        "colab": {
          "base_uri": "https://localhost:8080/"
        },
        "id": "SF8i6W5shQW9",
        "outputId": "2021c7d3-882e-41aa-c833-c26315077712"
      },
      "source": [
        "data = pd.get_dummies(data, columns=['InternetService','Contract','PaymentMethod'])\n",
        "data.columns"
      ],
      "execution_count": 461,
      "outputs": [
        {
          "output_type": "execute_result",
          "data": {
            "text/plain": [
              "Index(['gender', 'SeniorCitizen', 'Partner', 'Dependents', 'tenure',\n",
              "       'PhoneService', 'MultipleLines', 'OnlineSecurity', 'OnlineBackup',\n",
              "       'DeviceProtection', 'TechSupport', 'StreamingTV', 'StreamingMovies',\n",
              "       'PaperlessBilling', 'MonthlyCharges', 'TotalCharges', 'Churn', 'TotVAS',\n",
              "       'InternetService_DSL', 'InternetService_Fiber optic',\n",
              "       'InternetService_No', 'Contract_Month-to-month', 'Contract_One year',\n",
              "       'Contract_Two year', 'PaymentMethod_Bank transfer (automatic)',\n",
              "       'PaymentMethod_Credit card (automatic)',\n",
              "       'PaymentMethod_Electronic check', 'PaymentMethod_Mailed check'],\n",
              "      dtype='object')"
            ]
          },
          "metadata": {},
          "execution_count": 461
        }
      ]
    },
    {
      "cell_type": "code",
      "metadata": {
        "colab": {
          "base_uri": "https://localhost:8080/"
        },
        "id": "TvucgDNiiTHB",
        "outputId": "095ed2a4-e35f-407f-a3fc-ecc52011efb8"
      },
      "source": [
        "data.shape"
      ],
      "execution_count": 462,
      "outputs": [
        {
          "output_type": "execute_result",
          "data": {
            "text/plain": [
              "(7032, 28)"
            ]
          },
          "metadata": {},
          "execution_count": 462
        }
      ]
    },
    {
      "cell_type": "markdown",
      "metadata": {
        "id": "aHdZi2dqinIt"
      },
      "source": [
        "4.1.6: Feature Rescalling: Mis-Max Scaling"
      ]
    },
    {
      "cell_type": "code",
      "metadata": {
        "id": "EYP-PLVZiyTd"
      },
      "source": [
        "cols_to_scale = ['tenure','MonthlyCharges','TotalCharges']\n",
        "\n",
        "from sklearn.preprocessing import MinMaxScaler\n",
        "scaler = MinMaxScaler()\n",
        "data[cols_to_scale] = scaler.fit_transform(data[cols_to_scale])"
      ],
      "execution_count": 463,
      "outputs": []
    },
    {
      "cell_type": "code",
      "metadata": {
        "colab": {
          "base_uri": "https://localhost:8080/"
        },
        "id": "ZmMc2_Puji0U",
        "outputId": "240c40be-ac8f-45bf-90d6-7b9646333346"
      },
      "source": [
        "#Reconfirm Unique values\n",
        "unique_values(data)"
      ],
      "execution_count": 464,
      "outputs": [
        {
          "output_type": "stream",
          "name": "stdout",
          "text": [
            "gender : [1 0] Count : 2\n",
            "\n",
            "SeniorCitizen : [0 1] Count : 2\n",
            "\n",
            "Partner : [1 0] Count : 2\n",
            "\n",
            "Dependents : [0 1] Count : 2\n",
            "\n",
            "tenure : [0.         0.46478873 0.01408451 0.61971831 0.09859155 0.29577465\n",
            " 0.12676056 0.38028169 0.85915493 0.16901408 0.21126761 0.8028169\n",
            " 0.67605634 0.33802817 0.95774648 0.71830986 0.98591549 0.28169014\n",
            " 0.15492958 0.4084507  0.64788732 1.         0.22535211 0.36619718\n",
            " 0.05633803 0.63380282 0.14084507 0.97183099 0.87323944 0.5915493\n",
            " 0.1971831  0.83098592 0.23943662 0.91549296 0.11267606 0.02816901\n",
            " 0.42253521 0.69014085 0.88732394 0.77464789 0.08450704 0.57746479\n",
            " 0.47887324 0.66197183 0.3943662  0.90140845 0.52112676 0.94366197\n",
            " 0.43661972 0.76056338 0.50704225 0.49295775 0.56338028 0.07042254\n",
            " 0.04225352 0.45070423 0.92957746 0.30985915 0.78873239 0.84507042\n",
            " 0.18309859 0.26760563 0.73239437 0.54929577 0.81690141 0.32394366\n",
            " 0.6056338  0.25352113 0.74647887 0.70422535 0.35211268 0.53521127] Count : 72\n",
            "\n",
            "PhoneService : [0 1] Count : 2\n",
            "\n",
            "MultipleLines : [0 1] Count : 2\n",
            "\n",
            "OnlineSecurity : [0 1] Count : 2\n",
            "\n",
            "OnlineBackup : [1 0] Count : 2\n",
            "\n",
            "DeviceProtection : [0 1] Count : 2\n",
            "\n",
            "TechSupport : [0 1] Count : 2\n",
            "\n",
            "StreamingTV : [0 1] Count : 2\n",
            "\n",
            "StreamingMovies : [0 1] Count : 2\n",
            "\n",
            "PaperlessBilling : [1 0] Count : 2\n",
            "\n",
            "MonthlyCharges : [0.11542289 0.38507463 0.35422886 ... 0.44626866 0.25820896 0.60149254] Count : 1584\n",
            "\n",
            "TotalCharges : [0.0012751  0.21586661 0.01031041 ... 0.03780868 0.03321025 0.78764136] Count : 6530\n",
            "\n",
            "Churn : [0 1] Count : 2\n",
            "\n",
            "TotVAS : [1 2 3 0 4 5 6] Count : 7\n",
            "\n",
            "InternetService_DSL : [1 0] Count : 2\n",
            "\n",
            "InternetService_Fiber optic : [0 1] Count : 2\n",
            "\n",
            "InternetService_No : [0 1] Count : 2\n",
            "\n",
            "Contract_Month-to-month : [1 0] Count : 2\n",
            "\n",
            "Contract_One year : [0 1] Count : 2\n",
            "\n",
            "Contract_Two year : [0 1] Count : 2\n",
            "\n",
            "PaymentMethod_Bank transfer (automatic) : [0 1] Count : 2\n",
            "\n",
            "PaymentMethod_Credit card (automatic) : [0 1] Count : 2\n",
            "\n",
            "PaymentMethod_Electronic check : [1 0] Count : 2\n",
            "\n",
            "PaymentMethod_Mailed check : [0 1] Count : 2\n",
            "\n"
          ]
        }
      ]
    },
    {
      "cell_type": "markdown",
      "metadata": {
        "id": "W6MyzVp6kTfE"
      },
      "source": [
        "4.1.7: Correlation Analysis"
      ]
    },
    {
      "cell_type": "code",
      "metadata": {
        "colab": {
          "base_uri": "https://localhost:8080/",
          "height": 538
        },
        "id": "lmaeM9Oejv-u",
        "outputId": "02646f96-10a7-47e4-90a0-253b159e8053"
      },
      "source": [
        "# Show correlation plot for correlation of Churn with each of the remaining features.\n",
        "plt.figure(figsize=(16,10))\n",
        "data.corr()['Churn'].sort_values(ascending=False).plot(kind='bar', figsize=(20,5))"
      ],
      "execution_count": 465,
      "outputs": [
        {
          "output_type": "execute_result",
          "data": {
            "text/plain": [
              "<matplotlib.axes._subplots.AxesSubplot at 0x7f7c0b2d5ad0>"
            ]
          },
          "metadata": {},
          "execution_count": 465
        },
        {
          "output_type": "display_data",
          "data": {
            "image/png": "[encoded data removed]",
            "text/plain": [
              "<Figure size 1440x360 with 1 Axes>"
            ]
          },
          "metadata": {
            "needs_background": "light"
          }
        }
      ]
    },
    {
      "cell_type": "markdown",
      "metadata": {
        "id": "j8-zvqiAv0d2"
      },
      "source": [
        "#5: Train Test Split"
      ]
    },
    {
      "cell_type": "markdown",
      "metadata": {
        "id": "OSWBZ2jXyLgP"
      },
      "source": [
        "##5.1 Define X & y variables"
      ]
    },
    {
      "cell_type": "code",
      "metadata": {
        "id": "jNqjUbA8yrWG"
      },
      "source": [
        "X = data.drop(['Churn', 'TotVAS'], axis=1)\n",
        "y = data['Churn']\n",
        "\n",
        "from sklearn.model_selection import train_test_split\n",
        "\n",
        "X_train, X_test, y_train, y_test = train_test_split(X, y, test_size=0.2, random_state=42)"
      ],
      "execution_count": 466,
      "outputs": []
    },
    {
      "cell_type": "markdown",
      "metadata": {
        "id": "rF5DcyoR7LYA"
      },
      "source": [
        "#6: Model Evaluation Metrics"
      ]
    },
    {
      "cell_type": "markdown",
      "metadata": {
        "id": "ojupbBAk7VQf"
      },
      "source": [
        "For performance assessment of the chosen models, various metrics are used:\n",
        "\n",
        "* Feature weights: Indicates the top features used by the model to generate the predictions\n",
        "* Confusion matrix: Shows a grid of true and false predictions compared to the actual values\n",
        "* Accuracy score: Shows the overall accuracy of the model for training set and test set\n",
        "* ROC Curve: Shows the diagnostic ability of a model by bringing together true positive rate (TPR) and false positive rate (FPR) for different thresholds of class predictions (e.g. thresholds of 10%, 50% or 90% resulting to a prediction of churn)\n",
        "* AUC for ROC: Measures the overall separability between classes of the model related to the ROC curve\n",
        "Precision-Recall-Curve: Shows the diagnostic ability by comparing false positive rate (FPR) and false negative rate (FNR) for different thresholds of class predictions. It is suitable for data sets with high class imbalances (negative values overrepresented) as it focuses on precision and recall, which are not dependent on the number of true negatives and thereby excludes the imbalance\n",
        "* F1 Score: Builds the harmonic mean of precision and recall and thereby measures the compromise between both.\n",
        "* AUC for PRC: Measures the overall separability between classes of the model related to the Precision-Recall curve"
      ]
    },
    {
      "cell_type": "code",
      "metadata": {
        "id": "2SUgY0PB8aFT"
      },
      "source": [
        "from sklearn.metrics import accuracy_score, confusion_matrix, classification_report, roc_curve, roc_auc_score\n",
        "from sklearn.metrics import precision_recall_curve, auc, f1_score, plot_confusion_matrix, precision_score, recall_score"
      ],
      "execution_count": 467,
      "outputs": []
    },
    {
      "cell_type": "markdown",
      "metadata": {
        "id": "q-z9UNO38iiT"
      },
      "source": [
        "##6.1: Function to plot feature weights for a classifier."
      ]
    },
    {
      "cell_type": "code",
      "metadata": {
        "id": "-kKykvUj83D4"
      },
      "source": [
        "def feature_weights(X_df, classifier, classifier_name):\n",
        "    weights = pd.Series(classifier.coef_[0], index=X_df.columns.values).sort_values(ascending=False)\n",
        "    \n",
        "    top_weights_selected = weights[:10]\n",
        "    plt.figure(figsize=(7,6))\n",
        "    plt.tick_params(labelsize=10)#plt.xlabel(fontsize=10)\n",
        "    plt.title(f'{classifier_name} - Top 10 Features')\n",
        "    top_weights_selected.plot(kind=\"bar\")\n",
        "    \n",
        "    bottom_weights_selected = weights[-10:]\n",
        "    plt.figure(figsize=(7,6))\n",
        "    plt.tick_params(labelsize=10)#plt.xlabel(fontsize=10)\n",
        "    plt.title(f'{classifier_name} - Bottom 10 Features')\n",
        "    bottom_weights_selected.plot(kind=\"bar\")\n",
        "    \n",
        "    return print(\"\")"
      ],
      "execution_count": 468,
      "outputs": []
    },
    {
      "cell_type": "markdown",
      "metadata": {
        "id": "4TwbTTrP9EUO"
      },
      "source": [
        "##6.2: Function to plot confusion matrix for a classifier and train and test accuracy"
      ]
    },
    {
      "cell_type": "code",
      "metadata": {
        "id": "8eiTLAAb9OJZ"
      },
      "source": [
        "def confusion_matrix_plot(X_train, y_train, X_test, y_test, classifier, y_pred, classifier_name):\n",
        "    fig, ax = plt.subplots(figsize=(7, 6))\n",
        "    plot_confusion_matrix(classifier, X_test, y_test, display_labels=[\"No Churn\", \"Churn\"], cmap=plt.cm.Blues, normalize=None, ax=ax)\n",
        "    ax.set_title(f'{classifier_name} - Confusion Matrix')\n",
        "    plt.show()\n",
        "\n",
        "    fig, ax = plt.subplots(figsize=(7, 6))\n",
        "    plot_confusion_matrix(classifier, X_test, y_test, display_labels=[\"No Churn\", \"Churn\"], cmap=plt.cm.Blues, normalize='true', ax=ax)\n",
        "    ax.set_title(f'{classifier_name} - Confusion Matrix (norm.)')\n",
        "    plt.show()\n",
        "    \n",
        "    print(f'Accuracy Score Test: {accuracy_score(y_test, y_pred)}')\n",
        "    print(f'Accuracy Score Train: {classifier.score(X_train, y_train)} (as comparison)')\n",
        "    return print(\"\")"
      ],
      "execution_count": 469,
      "outputs": []
    },
    {
      "cell_type": "markdown",
      "metadata": {
        "id": "F-pK8mfX9cF4"
      },
      "source": [
        "##6.3: Function to plot ROC curve and AUC score"
      ]
    },
    {
      "cell_type": "code",
      "metadata": {
        "id": "cNmPmBEq9ZAH"
      },
      "source": [
        "def roc_curve_auc_score(X_test, y_test, y_pred_probabilities, classifier_name):\n",
        "    \n",
        "    y_pred_prob = y_pred_probabilities[:,1]\n",
        "    fpr, tpr, thresholds = roc_curve(y_test, y_pred_prob)\n",
        "    \n",
        "    plt.plot([0, 1], [0, 1], 'k--')\n",
        "    plt.plot(fpr, tpr, label=f'{classifier_name}')\n",
        "    plt.xlabel('False Positive Rate')\n",
        "    plt.ylabel('True Positive Rate')\n",
        "    plt.title(f'{classifier_name} - ROC Curve')\n",
        "    plt.show()\n",
        "    \n",
        "    return print(f'AUC Score (ROC): {roc_auc_score(y_test, y_pred_prob)}\\n')"
      ],
      "execution_count": 470,
      "outputs": []
    },
    {
      "cell_type": "markdown",
      "metadata": {
        "id": "V7mLMdUl9ooD"
      },
      "source": [
        "##6.4: Function to plot precision-recall-curve (PRC) and the F1 score and AUC score"
      ]
    },
    {
      "cell_type": "code",
      "metadata": {
        "id": "PyHC6sCG9941"
      },
      "source": [
        "def precision_recall_curve_and_scores(X_test, y_test, y_pred, y_pred_probabilities, classifier_name):\n",
        "    \n",
        "    y_pred_prob = y_pred_probabilities[:,1]\n",
        "    precision, recall, thresholds = precision_recall_curve(y_test, y_pred_prob)\n",
        "    \n",
        "    plt.plot(recall, precision, label=f'{classifier_name}')\n",
        "    plt.xlabel('Recall')\n",
        "    plt.ylabel('Precision')\n",
        "    plt.title(f'{classifier_name} - Precision-Recall Curve')\n",
        "    plt.show()\n",
        "    \n",
        "    f1_score_result, auc_score_result = f1_score(y_test, y_pred), auc(recall, precision)\n",
        "    \n",
        "    return print(f'F1 Score: {f1_score_result} \\nAUC Score (PR): {auc_score_result}\\n')"
      ],
      "execution_count": 471,
      "outputs": []
    },
    {
      "cell_type": "markdown",
      "metadata": {
        "id": "nu2m1BdC1Nng"
      },
      "source": [
        "#7: Model Selection, Traning, Prediction & Assesment"
      ]
    },
    {
      "cell_type": "markdown",
      "metadata": {
        "id": "iqetvXuO1W4V"
      },
      "source": [
        "##7.1: Logistic Regression"
      ]
    },
    {
      "cell_type": "markdown",
      "metadata": {
        "id": "nXXBdZXj2UiU"
      },
      "source": [
        "7.1.1: Model Import"
      ]
    },
    {
      "cell_type": "code",
      "metadata": {
        "id": "2YOuv89Z1bRQ"
      },
      "source": [
        "from sklearn.linear_model import LogisticRegression\n",
        "\n",
        "model_logreg = LogisticRegression()"
      ],
      "execution_count": 472,
      "outputs": []
    },
    {
      "cell_type": "markdown",
      "metadata": {
        "id": "Fjuzo2sp2YRD"
      },
      "source": [
        "7.1.2: Model Fit"
      ]
    },
    {
      "cell_type": "code",
      "metadata": {
        "colab": {
          "base_uri": "https://localhost:8080/"
        },
        "id": "AOtULP3s2dps",
        "outputId": "db4c9150-eba1-4ff4-e7a8-04c978e56aa0"
      },
      "source": [
        "model_logreg.fit(X_train, y_train)"
      ],
      "execution_count": 473,
      "outputs": [
        {
          "output_type": "execute_result",
          "data": {
            "text/plain": [
              "LogisticRegression(C=1.0, class_weight=None, dual=False, fit_intercept=True,\n",
              "                   intercept_scaling=1, l1_ratio=None, max_iter=100,\n",
              "                   multi_class='auto', n_jobs=None, penalty='l2',\n",
              "                   random_state=None, solver='lbfgs', tol=0.0001, verbose=0,\n",
              "                   warm_start=False)"
            ]
          },
          "metadata": {},
          "execution_count": 473
        }
      ]
    },
    {
      "cell_type": "markdown",
      "metadata": {
        "id": "IMlovzIZ3sZH"
      },
      "source": [
        "7.1.3: Model Predict"
      ]
    },
    {
      "cell_type": "code",
      "metadata": {
        "colab": {
          "base_uri": "https://localhost:8080/"
        },
        "id": "t1Kout0Z35ru",
        "outputId": "f34949e3-e346-4da8-ce7d-ccbf4285b812"
      },
      "source": [
        "y_pred_model_logreg = model_logreg.predict(X_test)\n",
        "y_pred_prob_model_logreg = model_logreg.predict_proba(X_test)\n",
        "\n",
        "y_pred_model_logreg"
      ],
      "execution_count": 474,
      "outputs": [
        {
          "output_type": "execute_result",
          "data": {
            "text/plain": [
              "array([0, 0, 1, ..., 0, 0, 0])"
            ]
          },
          "metadata": {},
          "execution_count": 474
        }
      ]
    },
    {
      "cell_type": "markdown",
      "metadata": {
        "id": "S0xRd75L-GwI"
      },
      "source": [
        "7.1.4: Plot model evaluators"
      ]
    },
    {
      "cell_type": "code",
      "metadata": {
        "colab": {
          "base_uri": "https://localhost:8080/",
          "height": 1000
        },
        "id": "aJwymcgt-Mo-",
        "outputId": "35264e23-8e9b-447f-b390-cc806761a062"
      },
      "source": [
        "feature_weights(X, model_logreg, 'Log. Regression')\n",
        "confusion_matrix_plot(X_train, y_train, X_test, y_test, model_logreg, y_pred_model_logreg, 'Log. Regression')\n",
        "roc_curve_auc_score(X_test, y_test, y_pred_prob_model_logreg, 'Log. Regression')\n",
        "precision_recall_curve_and_scores(X_test, y_test, y_pred_model_logreg, y_pred_prob_model_logreg, 'Log. Regression')"
      ],
      "execution_count": 475,
      "outputs": [
        {
          "output_type": "stream",
          "name": "stdout",
          "text": [
            "\n"
          ]
        },
        {
          "output_type": "display_data",
          "data": {
            "image/png": "[encoded data removed]",
            "text/plain": [
              "<Figure size 504x432 with 1 Axes>"
            ]
          },
          "metadata": {
            "needs_background": "light"
          }
        },
        {
          "output_type": "display_data",
          "data": {
            "image/png": "[encoded data removed]",
            "text/plain": [
              "<Figure size 504x432 with 1 Axes>"
            ]
          },
          "metadata": {
            "needs_background": "light"
          }
        },
        {
          "output_type": "display_data",
          "data": {
            "image/png": "[encoded data removed]",
            "text/plain": [
              "<Figure size 504x432 with 2 Axes>"
            ]
          },
          "metadata": {
            "needs_background": "light"
          }
        },
        {
          "output_type": "display_data",
          "data": {
            "image/png": "[encoded data removed]",
            "text/plain": [
              "<Figure size 504x432 with 2 Axes>"
            ]
          },
          "metadata": {
            "needs_background": "light"
          }
        },
        {
          "output_type": "stream",
          "name": "stdout",
          "text": [
            "Accuracy Score Test: 0.7874911158493249\n",
            "Accuracy Score Train: 0.8072888888888888 (as comparison)\n",
            "\n"
          ]
        },
        {
          "output_type": "display_data",
          "data": {
            "image/png": "[encoded data removed]",
            "text/plain": [
              "<Figure size 432x288 with 1 Axes>"
            ]
          },
          "metadata": {
            "needs_background": "light"
          }
        },
        {
          "output_type": "stream",
          "name": "stdout",
          "text": [
            "AUC Score (ROC): 0.8316517489685304\n",
            "\n"
          ]
        },
        {
          "output_type": "display_data",
          "data": {
            "image/png": "[encoded data removed]",
            "text/plain": [
              "<Figure size 432x288 with 1 Axes>"
            ]
          },
          "metadata": {
            "needs_background": "light"
          }
        },
        {
          "output_type": "stream",
          "name": "stdout",
          "text": [
            "F1 Score: 0.5622254758418741 \n",
            "AUC Score (PR): 0.627365395614657\n",
            "\n"
          ]
        }
      ]
    },
    {
      "cell_type": "markdown",
      "metadata": {
        "id": "oLj-dgAGC1-3"
      },
      "source": [
        "#ANN"
      ]
    },
    {
      "cell_type": "code",
      "metadata": {
        "colab": {
          "base_uri": "https://localhost:8080/"
        },
        "id": "bmKkyOn9DJSr",
        "outputId": "65ea95bf-b9ca-4742-a088-15772bb29759"
      },
      "source": [
        "X_train.shape"
      ],
      "execution_count": 476,
      "outputs": [
        {
          "output_type": "execute_result",
          "data": {
            "text/plain": [
              "(5625, 26)"
            ]
          },
          "metadata": {},
          "execution_count": 476
        }
      ]
    },
    {
      "cell_type": "code",
      "metadata": {
        "colab": {
          "base_uri": "https://localhost:8080/"
        },
        "id": "ZTozY74iDMmN",
        "outputId": "76b04433-f9c8-461c-aa5c-48485445f323"
      },
      "source": [
        "X_test.shape"
      ],
      "execution_count": 477,
      "outputs": [
        {
          "output_type": "execute_result",
          "data": {
            "text/plain": [
              "(1407, 26)"
            ]
          },
          "metadata": {},
          "execution_count": 477
        }
      ]
    },
    {
      "cell_type": "code",
      "metadata": {
        "id": "1auvchMPChAD"
      },
      "source": [
        "model_ANN = keras.Sequential([\n",
        "    keras.layers.Dense(20, input_shape=(26,), activation='relu'),\n",
        "    keras.layers.Dense(1, activation='sigmoid'),\n",
        "\n",
        "])"
      ],
      "execution_count": 478,
      "outputs": []
    },
    {
      "cell_type": "code",
      "metadata": {
        "colab": {
          "base_uri": "https://localhost:8080/"
        },
        "id": "cJRgZvTIDhmf",
        "outputId": "33e1b660-62c4-4749-a1a3-45321c9ca10c"
      },
      "source": [
        "print(model_ANN.summary())"
      ],
      "execution_count": 479,
      "outputs": [
        {
          "output_type": "stream",
          "name": "stdout",
          "text": [
            "Model: \"sequential_6\"\n",
            "_________________________________________________________________\n",
            " Layer (type)                Output Shape              Param #   \n",
            "=================================================================\n",
            " dense_12 (Dense)            (None, 20)                540       \n",
            "                                                                 \n",
            " dense_13 (Dense)            (None, 1)                 21        \n",
            "                                                                 \n",
            "=================================================================\n",
            "Total params: 561\n",
            "Trainable params: 561\n",
            "Non-trainable params: 0\n",
            "_________________________________________________________________\n",
            "None\n"
          ]
        }
      ]
    },
    {
      "cell_type": "code",
      "metadata": {
        "id": "-bli3XfMDln3"
      },
      "source": [
        "model_ANN.compile(optimizer='adam',\n",
        "              loss='binary_crossentropy',\n",
        "              metrics=['accuracy'])"
      ],
      "execution_count": 480,
      "outputs": []
    },
    {
      "cell_type": "code",
      "metadata": {
        "colab": {
          "base_uri": "https://localhost:8080/"
        },
        "id": "jS0k4WN9DtV4",
        "outputId": "1cdd7c41-2832-4753-ebf5-cdf4e68c841d"
      },
      "source": [
        "model_ANN.fit(X_train, y_train, epochs=10)"
      ],
      "execution_count": 481,
      "outputs": [
        {
          "output_type": "stream",
          "name": "stdout",
          "text": [
            "Epoch 1/10\n",
            "176/176 [==============================] - 1s 1ms/step - loss: 0.5441 - accuracy: 0.7145\n",
            "Epoch 2/10\n",
            "176/176 [==============================] - 0s 1ms/step - loss: 0.4389 - accuracy: 0.7884\n",
            "Epoch 3/10\n",
            "176/176 [==============================] - 0s 1ms/step - loss: 0.4246 - accuracy: 0.7966\n",
            "Epoch 4/10\n",
            "176/176 [==============================] - 0s 1ms/step - loss: 0.4191 - accuracy: 0.7996\n",
            "Epoch 5/10\n",
            "176/176 [==============================] - 0s 1ms/step - loss: 0.4166 - accuracy: 0.8034\n",
            "Epoch 6/10\n",
            "176/176 [==============================] - 0s 1ms/step - loss: 0.4155 - accuracy: 0.8050\n",
            "Epoch 7/10\n",
            "176/176 [==============================] - 0s 1ms/step - loss: 0.4139 - accuracy: 0.8043\n",
            "Epoch 8/10\n",
            "176/176 [==============================] - 0s 1ms/step - loss: 0.4122 - accuracy: 0.8071\n",
            "Epoch 9/10\n",
            "176/176 [==============================] - 0s 1ms/step - loss: 0.4113 - accuracy: 0.8055\n",
            "Epoch 10/10\n",
            "176/176 [==============================] - 0s 1ms/step - loss: 0.4107 - accuracy: 0.8073\n"
          ]
        },
        {
          "output_type": "execute_result",
          "data": {
            "text/plain": [
              "<keras.callbacks.History at 0x7f7c14646f50>"
            ]
          },
          "metadata": {},
          "execution_count": 481
        }
      ]
    },
    {
      "cell_type": "code",
      "metadata": {
        "id": "f1zFstDOEViz"
      },
      "source": [
        "y_pred_model_ANN = model_ANN.predict(X_test)\n",
        "\n",
        "y_pred2 = []\n",
        "for element in y_pred_model_ANN:\n",
        "    if element > 0.5:\n",
        "        y_pred.append(1)\n",
        "    else:\n",
        "        y_pred.append(0)\n"
      ],
      "execution_count": 482,
      "outputs": []
    },
    {
      "cell_type": "code",
      "metadata": {
        "colab": {
          "base_uri": "https://localhost:8080/"
        },
        "id": "V4tKE3b4Hqu6",
        "outputId": "d36b32c3-8273-4107-c9a6-5fffcc308358"
      },
      "source": [
        "y_pred_model_ANN[:2]\n",
        "y_pred2"
      ],
      "execution_count": 487,
      "outputs": [
        {
          "output_type": "execute_result",
          "data": {
            "text/plain": [
              "[]"
            ]
          },
          "metadata": {},
          "execution_count": 487
        }
      ]
    },
    {
      "cell_type": "code",
      "metadata": {
        "colab": {
          "base_uri": "https://localhost:8080/",
          "height": 729
        },
        "id": "3eTM8r-UFb-0",
        "outputId": "9b1ca2b2-27da-4b68-c999-18d8a7e6dd16"
      },
      "source": [
        "#feature_weights(X, model_ANN, 'Log. Regression1')\n",
        "confusion_matrix_plot(X_train, y_train, X_test, y_test, model_ANN, y_pred_model_ANN, 'Log. Regression1')\n",
        "roc_curve_auc_score(X_test, y_test, y_pred_prob_model_logreg, 'Log. Regression1')\n",
        "precision_recall_curve_and_scores(X_test, y_test, y_pred_model_logreg, y_pred_prob_model_logreg, 'Log. Regression1')"
      ],
      "execution_count": 484,
      "outputs": [
        {
          "output_type": "error",
          "ename": "ValueError",
          "evalue": "ignored",
          "traceback": [
            "\u001b[0;31m---------------------------------------------------------------------------\u001b[0m",
            "\u001b[0;31mValueError\u001b[0m                                Traceback (most recent call last)",
            "\u001b[0;32m<ipython-input-484-5c38878aa614>\u001b[0m in \u001b[0;36m<module>\u001b[0;34m()\u001b[0m\n\u001b[1;32m      1\u001b[0m \u001b[0;31m#feature_weights(X, model_ANN, 'Log. Regression1')\u001b[0m\u001b[0;34m\u001b[0m\u001b[0;34m\u001b[0m\u001b[0;34m\u001b[0m\u001b[0m\n\u001b[0;32m----> 2\u001b[0;31m \u001b[0mconfusion_matrix_plot\u001b[0m\u001b[0;34m(\u001b[0m\u001b[0mX_train\u001b[0m\u001b[0;34m,\u001b[0m \u001b[0my_train\u001b[0m\u001b[0;34m,\u001b[0m \u001b[0mX_test\u001b[0m\u001b[0;34m,\u001b[0m \u001b[0my_test\u001b[0m\u001b[0;34m,\u001b[0m \u001b[0mmodel_ANN\u001b[0m\u001b[0;34m,\u001b[0m \u001b[0my_pred_model_ANN\u001b[0m\u001b[0;34m,\u001b[0m \u001b[0;34m'Log. Regression1'\u001b[0m\u001b[0;34m)\u001b[0m\u001b[0;34m\u001b[0m\u001b[0;34m\u001b[0m\u001b[0m\n\u001b[0m\u001b[1;32m      3\u001b[0m \u001b[0mroc_curve_auc_score\u001b[0m\u001b[0;34m(\u001b[0m\u001b[0mX_test\u001b[0m\u001b[0;34m,\u001b[0m \u001b[0my_test\u001b[0m\u001b[0;34m,\u001b[0m \u001b[0my_pred_prob_model_logreg\u001b[0m\u001b[0;34m,\u001b[0m \u001b[0;34m'Log. Regression1'\u001b[0m\u001b[0;34m)\u001b[0m\u001b[0;34m\u001b[0m\u001b[0;34m\u001b[0m\u001b[0m\n\u001b[1;32m      4\u001b[0m \u001b[0mprecision_recall_curve_and_scores\u001b[0m\u001b[0;34m(\u001b[0m\u001b[0mX_test\u001b[0m\u001b[0;34m,\u001b[0m \u001b[0my_test\u001b[0m\u001b[0;34m,\u001b[0m \u001b[0my_pred_model_logreg\u001b[0m\u001b[0;34m,\u001b[0m \u001b[0my_pred_prob_model_logreg\u001b[0m\u001b[0;34m,\u001b[0m \u001b[0;34m'Log. Regression1'\u001b[0m\u001b[0;34m)\u001b[0m\u001b[0;34m\u001b[0m\u001b[0;34m\u001b[0m\u001b[0m\n",
            "\u001b[0;32m<ipython-input-469-6271087718ce>\u001b[0m in \u001b[0;36mconfusion_matrix_plot\u001b[0;34m(X_train, y_train, X_test, y_test, classifier, y_pred, classifier_name)\u001b[0m\n\u001b[1;32m      1\u001b[0m \u001b[0;32mdef\u001b[0m \u001b[0mconfusion_matrix_plot\u001b[0m\u001b[0;34m(\u001b[0m\u001b[0mX_train\u001b[0m\u001b[0;34m,\u001b[0m \u001b[0my_train\u001b[0m\u001b[0;34m,\u001b[0m \u001b[0mX_test\u001b[0m\u001b[0;34m,\u001b[0m \u001b[0my_test\u001b[0m\u001b[0;34m,\u001b[0m \u001b[0mclassifier\u001b[0m\u001b[0;34m,\u001b[0m \u001b[0my_pred\u001b[0m\u001b[0;34m,\u001b[0m \u001b[0mclassifier_name\u001b[0m\u001b[0;34m)\u001b[0m\u001b[0;34m:\u001b[0m\u001b[0;34m\u001b[0m\u001b[0;34m\u001b[0m\u001b[0m\n\u001b[1;32m      2\u001b[0m     \u001b[0mfig\u001b[0m\u001b[0;34m,\u001b[0m \u001b[0max\u001b[0m \u001b[0;34m=\u001b[0m \u001b[0mplt\u001b[0m\u001b[0;34m.\u001b[0m\u001b[0msubplots\u001b[0m\u001b[0;34m(\u001b[0m\u001b[0mfigsize\u001b[0m\u001b[0;34m=\u001b[0m\u001b[0;34m(\u001b[0m\u001b[0;36m7\u001b[0m\u001b[0;34m,\u001b[0m \u001b[0;36m6\u001b[0m\u001b[0;34m)\u001b[0m\u001b[0;34m)\u001b[0m\u001b[0;34m\u001b[0m\u001b[0;34m\u001b[0m\u001b[0m\n\u001b[0;32m----> 3\u001b[0;31m     \u001b[0mplot_confusion_matrix\u001b[0m\u001b[0;34m(\u001b[0m\u001b[0mclassifier\u001b[0m\u001b[0;34m,\u001b[0m \u001b[0mX_test\u001b[0m\u001b[0;34m,\u001b[0m \u001b[0my_test\u001b[0m\u001b[0;34m,\u001b[0m \u001b[0mdisplay_labels\u001b[0m\u001b[0;34m=\u001b[0m\u001b[0;34m[\u001b[0m\u001b[0;34m\"No Churn\"\u001b[0m\u001b[0;34m,\u001b[0m \u001b[0;34m\"Churn\"\u001b[0m\u001b[0;34m]\u001b[0m\u001b[0;34m,\u001b[0m \u001b[0mcmap\u001b[0m\u001b[0;34m=\u001b[0m\u001b[0mplt\u001b[0m\u001b[0;34m.\u001b[0m\u001b[0mcm\u001b[0m\u001b[0;34m.\u001b[0m\u001b[0mBlues\u001b[0m\u001b[0;34m,\u001b[0m \u001b[0mnormalize\u001b[0m\u001b[0;34m=\u001b[0m\u001b[0;32mNone\u001b[0m\u001b[0;34m,\u001b[0m \u001b[0max\u001b[0m\u001b[0;34m=\u001b[0m\u001b[0max\u001b[0m\u001b[0;34m)\u001b[0m\u001b[0;34m\u001b[0m\u001b[0;34m\u001b[0m\u001b[0m\n\u001b[0m\u001b[1;32m      4\u001b[0m     \u001b[0max\u001b[0m\u001b[0;34m.\u001b[0m\u001b[0mset_title\u001b[0m\u001b[0;34m(\u001b[0m\u001b[0;34mf'{classifier_name} - Confusion Matrix'\u001b[0m\u001b[0;34m)\u001b[0m\u001b[0;34m\u001b[0m\u001b[0;34m\u001b[0m\u001b[0m\n\u001b[1;32m      5\u001b[0m     \u001b[0mplt\u001b[0m\u001b[0;34m.\u001b[0m\u001b[0mshow\u001b[0m\u001b[0;34m(\u001b[0m\u001b[0;34m)\u001b[0m\u001b[0;34m\u001b[0m\u001b[0;34m\u001b[0m\u001b[0m\n",
            "\u001b[0;32m/usr/local/lib/python3.7/dist-packages/sklearn/metrics/_plot/confusion_matrix.py\u001b[0m in \u001b[0;36mplot_confusion_matrix\u001b[0;34m(estimator, X, y_true, labels, sample_weight, normalize, display_labels, include_values, xticks_rotation, values_format, cmap, ax)\u001b[0m\n\u001b[1;32m    181\u001b[0m \u001b[0;34m\u001b[0m\u001b[0m\n\u001b[1;32m    182\u001b[0m     \u001b[0;32mif\u001b[0m \u001b[0;32mnot\u001b[0m \u001b[0mis_classifier\u001b[0m\u001b[0;34m(\u001b[0m\u001b[0mestimator\u001b[0m\u001b[0;34m)\u001b[0m\u001b[0;34m:\u001b[0m\u001b[0;34m\u001b[0m\u001b[0;34m\u001b[0m\u001b[0m\n\u001b[0;32m--> 183\u001b[0;31m         \u001b[0;32mraise\u001b[0m \u001b[0mValueError\u001b[0m\u001b[0;34m(\u001b[0m\u001b[0;34m\"plot_confusion_matrix only supports classifiers\"\u001b[0m\u001b[0;34m)\u001b[0m\u001b[0;34m\u001b[0m\u001b[0;34m\u001b[0m\u001b[0m\n\u001b[0m\u001b[1;32m    184\u001b[0m \u001b[0;34m\u001b[0m\u001b[0m\n\u001b[1;32m    185\u001b[0m     \u001b[0my_pred\u001b[0m \u001b[0;34m=\u001b[0m \u001b[0mestimator\u001b[0m\u001b[0;34m.\u001b[0m\u001b[0mpredict\u001b[0m\u001b[0;34m(\u001b[0m\u001b[0mX\u001b[0m\u001b[0;34m)\u001b[0m\u001b[0;34m\u001b[0m\u001b[0;34m\u001b[0m\u001b[0m\n",
            "\u001b[0;31mValueError\u001b[0m: plot_confusion_matrix only supports classifiers"
          ]
        },
        {
          "output_type": "display_data",
          "data": {
            "image/png": "[encoded data removed]",
            "text/plain": [
              "<Figure size 504x432 with 1 Axes>"
            ]
          },
          "metadata": {
            "needs_background": "light"
          }
        }
      ]
    },
    {
      "cell_type": "markdown",
      "metadata": {
        "id": "sd2rkOmeJ1IR"
      },
      "source": [
        "#OLD -> Data Visualisation"
      ]
    },
    {
      "cell_type": "code",
      "metadata": {
        "id": "d1OXGmRaJBEn"
      },
      "source": [
        "tenure_churn_no = data1[data1.Churn=='No'].tenure\n",
        "tenure_churn_yes = data1[data1.Churn=='Yes'].tenure\n",
        "\n",
        "plt.xlabel(\"Tenure\")\n",
        "plt.ylabel(\"Number Of Customers\")\n",
        "plt.title(\"Telco Customer Churn Prediction Visualiztion\")\n",
        "\n",
        "plt.hist([tenure_churn_yes, tenure_churn_no], rwidth=0.95, color=['red','green'],label=['Churn=Yes','Churn=No'])\n",
        "plt.legend()"
      ],
      "execution_count": null,
      "outputs": []
    },
    {
      "cell_type": "code",
      "metadata": {
        "id": "nj9YgrNOKWY0"
      },
      "source": [
        "tenure_churn_no = data1[data1.Churn=='No'].MonthlyCharges\n",
        "tenure_churn_yes = data1[data1.Churn=='Yes'].MonthlyCharges\n",
        "\n",
        "plt.xlabel(\"Monthly Charges\")\n",
        "plt.ylabel(\"Number Of Customers\")\n",
        "plt.title(\"Telco Customer Churn Prediction Visualiztion\")\n",
        "\n",
        "plt.hist([tenure_churn_yes, tenure_churn_no], rwidth=0.95, color=['red','green'],label=['Churn=Yes','Churn=No'])\n",
        "plt.legend()"
      ],
      "execution_count": null,
      "outputs": []
    },
    {
      "cell_type": "code",
      "metadata": {
        "id": "Tw2a4WfQMcNA"
      },
      "source": [
        "tenure_churn_no = data1[data1.Churn=='No'].TotalCharges\n",
        "tenure_churn_yes = data1[data1.Churn=='Yes'].TotalCharges\n",
        "\n",
        "plt.xlabel(\"Total Charges\")\n",
        "plt.ylabel(\"Number Of Customers\")\n",
        "plt.title(\"Telco Customer Churn Prediction Visualiztion\")\n",
        "\n",
        "plt.hist([tenure_churn_yes, tenure_churn_no], rwidth=0.95, color=['red','green'],label=['Churn=Yes','Churn=No'])\n",
        "plt.legend()"
      ],
      "execution_count": null,
      "outputs": []
    },
    {
      "cell_type": "markdown",
      "metadata": {
        "id": "JA7dEZp5fEhi"
      },
      "source": [
        "#Deep Learning Model Development "
      ]
    },
    {
      "cell_type": "markdown",
      "metadata": {
        "id": "Ccr6JuQwfKTv"
      },
      "source": [
        "##Data Scaling"
      ]
    },
    {
      "cell_type": "code",
      "metadata": {
        "id": "mJWV9wwWM2YH"
      },
      "source": [
        "data2.dtypes"
      ],
      "execution_count": null,
      "outputs": []
    },
    {
      "cell_type": "code",
      "metadata": {
        "id": "A4bqS_OefUeF"
      },
      "source": [
        "data2.sample(3)"
      ],
      "execution_count": null,
      "outputs": []
    },
    {
      "cell_type": "code",
      "metadata": {
        "id": "UKZbYHl4fZCA"
      },
      "source": [
        "scale_col = ['tenure', 'MonthlyCharges', 'TotalCharges']\n"
      ],
      "execution_count": null,
      "outputs": []
    },
    {
      "cell_type": "code",
      "metadata": {
        "id": "n0kY33Bhft3t"
      },
      "source": [
        "from sklearn.preprocessing import MinMaxScaler\n",
        "scaler = MinMaxScaler()\n",
        "\n",
        "data2[scale_col] = scaler.fit_transform(data2[scale_col])"
      ],
      "execution_count": null,
      "outputs": []
    },
    {
      "cell_type": "code",
      "metadata": {
        "id": "Vko5gpcFgoIY"
      },
      "source": [
        "data2.sample(3)"
      ],
      "execution_count": null,
      "outputs": []
    },
    {
      "cell_type": "markdown",
      "metadata": {
        "id": "ArYrUeUQ0dIR"
      },
      "source": [
        "##Define X & Y Variables"
      ]
    },
    {
      "cell_type": "code",
      "metadata": {
        "id": "jAYkD0TCgvfF"
      },
      "source": [
        "X = data2.drop('Churn', axis=1)\n",
        "y = data2['Churn']\n",
        "y"
      ],
      "execution_count": null,
      "outputs": []
    },
    {
      "cell_type": "markdown",
      "metadata": {
        "id": "gE41oNtH2-6s"
      },
      "source": [
        "##Train Test Split"
      ]
    },
    {
      "cell_type": "code",
      "metadata": {
        "id": "qG0svTF9051j"
      },
      "source": [
        "from sklearn.model_selection import train_test_split\n",
        "X_train, X_test, y_train, y_test = train_test_split(X, y, test_size=0.2, random_state=5)"
      ],
      "execution_count": null,
      "outputs": []
    },
    {
      "cell_type": "code",
      "metadata": {
        "id": "JwVvzfwt1xTS"
      },
      "source": [
        "X_train.shape"
      ],
      "execution_count": null,
      "outputs": []
    },
    {
      "cell_type": "code",
      "metadata": {
        "id": "No4cD9W416hc"
      },
      "source": [
        "X_test.shape"
      ],
      "execution_count": null,
      "outputs": []
    },
    {
      "cell_type": "markdown",
      "metadata": {
        "id": "4KPMK2qjD3P-"
      },
      "source": [
        "##Create Model"
      ]
    },
    {
      "cell_type": "code",
      "metadata": {
        "id": "BPFPsqcq2won"
      },
      "source": [
        "model = keras.Sequential([\n",
        "    keras.layers.Dense(20, input_shape=(26,), activation='relu'),\n",
        "    keras.layers.Dense(1, activation='sigmoid'),\n",
        "\n",
        "])"
      ],
      "execution_count": null,
      "outputs": []
    },
    {
      "cell_type": "code",
      "metadata": {
        "id": "EB5GC7NCD6un"
      },
      "source": [
        "print(model.summary())"
      ],
      "execution_count": null,
      "outputs": []
    },
    {
      "cell_type": "code",
      "metadata": {
        "id": "QSrMeKLs4RFf"
      },
      "source": [
        "model.compile(optimizer='adam',\n",
        "              loss='binary_crossentropy',\n",
        "              metrics=['accuracy'])"
      ],
      "execution_count": null,
      "outputs": []
    },
    {
      "cell_type": "code",
      "metadata": {
        "id": "AJzr8evn5dz1"
      },
      "source": [
        "model.fit(X_train, y_train, epochs=20)"
      ],
      "execution_count": null,
      "outputs": []
    },
    {
      "cell_type": "markdown",
      "metadata": {
        "id": "0uZZd-ij6GYc"
      },
      "source": [
        "##Evaluate Model"
      ]
    },
    {
      "cell_type": "code",
      "metadata": {
        "id": "U5KpmqgW5uq2"
      },
      "source": [
        "model.evaluate(X_test, y_test)"
      ],
      "execution_count": null,
      "outputs": []
    },
    {
      "cell_type": "markdown",
      "metadata": {
        "id": "WkhACccV6Q6h"
      },
      "source": [
        "##Predict Model"
      ]
    },
    {
      "cell_type": "code",
      "metadata": {
        "id": "-DcNCqRF6LrN"
      },
      "source": [
        "yp = model.predict(X_test)\n",
        "yp"
      ],
      "execution_count": null,
      "outputs": []
    },
    {
      "cell_type": "code",
      "metadata": {
        "id": "-D3jWWFa6j5x"
      },
      "source": [
        "y_test[:10]"
      ],
      "execution_count": null,
      "outputs": []
    },
    {
      "cell_type": "code",
      "metadata": {
        "id": "IIO3zqwzEvtH"
      },
      "source": [
        "ypp = np.argmax(yp, axis=1)\n",
        "ypp[:10]"
      ],
      "execution_count": null,
      "outputs": []
    },
    {
      "cell_type": "code",
      "metadata": {
        "id": "ZChuUMXE7J4x"
      },
      "source": [
        "y_pred = []\n",
        "for element in yp:\n",
        "  if element > 0.5:\n",
        "    y_pred.append(1)\n",
        "  else:\n",
        "    y_pred.append(0)"
      ],
      "execution_count": null,
      "outputs": []
    },
    {
      "cell_type": "code",
      "metadata": {
        "id": "I7l9nc588aHA"
      },
      "source": [
        "y_pred[:10]"
      ],
      "execution_count": null,
      "outputs": []
    },
    {
      "cell_type": "code",
      "metadata": {
        "id": "LY8g1mq78fhE"
      },
      "source": [
        "from sklearn.metrics import confusion_matrix, classification_report\n",
        "print(classification_report(y_test, y_pred))"
      ],
      "execution_count": null,
      "outputs": []
    },
    {
      "cell_type": "code",
      "metadata": {
        "id": "-ksVoeKE9cDD"
      },
      "source": [
        "cm = tf.math.confusion_matrix(labels=y_test, predictions=y_pred)\n",
        "\n",
        "plt.figure(figsize = (10,7))\n",
        "sn.heatmap(cm, annot=True, fmt='d')\n",
        "plt.xlabel('Predicted')\n",
        "plt.ylabel('Truth')"
      ],
      "execution_count": null,
      "outputs": []
    },
    {
      "cell_type": "code",
      "metadata": {
        "id": "lvWA6aFaBiAc"
      },
      "source": [
        ""
      ],
      "execution_count": null,
      "outputs": []
    }
  ]
}